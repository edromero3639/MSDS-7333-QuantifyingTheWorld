{
 "cells": [
  {
   "cell_type": "markdown",
   "metadata": {},
   "source": [
    "# Quantifying the World: Case Study 3\n",
    "Eric Romero, Patricia Attah, Antonio Debouse"
   ]
  },
  {
   "cell_type": "markdown",
   "metadata": {},
   "source": [
    "### Table of Contents:\n",
    "\n",
    "   * <a href=\"#1\"> Business Understanding </a>\n",
    "   * <a href=\"#2\"> Data Evaluation/Engineering </a>\n",
    "   * <a href=\"#3\"> Modeling Preparations </a>\n",
    "   * <a href=\"#4\"> Model Building and Evaluation </a>\n",
    "   * <a href=\"#5\"> Model Interpretability and Explainability </a>\n",
    "   * <a href=\"#6\"> Case Conclusions </a>"
   ]
  },
  {
   "cell_type": "markdown",
   "metadata": {},
   "source": [
    "<a id=\"1\"></a>\n",
    "## Business Understanding\n",
    "An IT Department identified that company employees have been receiving a large amount of spam emails and request that we create a dataset that is a collection of both spam and normal emails, then build a model to identify spam and non-spam emails. We, the data scientist, will be using a Clustering and Naïve Bayes method to create an email filter that will improve emails that gets put into our inbox and those that are placed into a “spam” folder. Our model evaluation metric will be precision given we are prioritizing being able to predict a normal (true positive); we do not want to miss reading important emails because they were identified as spam.  \n",
    "\n",
    "\n",
    "### Task Summary:\n",
    "* Build a spam classifier using naive Bayes and clustering.\n",
    "* Our critical evaluation metric is Precision because this is used when the predicted positives are crucial. \n",
    "    * We will prioritize genuine emails being classified as spam to as low as possible given that crucial information would be lost and may cause more serious problems.\n"
   ]
  },
  {
   "cell_type": "markdown",
   "metadata": {},
   "source": [
    "<a id=\"2\"></a>\n",
    "## Data Evaluation/Engineering"
   ]
  },
  {
   "cell_type": "code",
   "execution_count": 5,
   "metadata": {},
   "outputs": [],
   "source": [
    "import numpy as np\n",
    "import sys\n",
    "from os import listdir, getcwd, chdir\n",
    "from os.path import isfile, join, dirname, realpath\n",
    "import pandas as pd\n",
    "import re\n",
    "import matplotlib.pyplot as plt\n",
    "from kneed import KneeLocator\n",
    "from sklearn.datasets import make_blobs\n",
    "from sklearn.cluster import KMeans\n",
    "from sklearn.metrics import silhouette_score\n",
    "from sklearn.preprocessing import StandardScaler\n",
    "import tarfile\n",
    "import seaborn as sns\n",
    "from sklearn.decomposition import PCA\n",
    "from sklearn.metrics import silhouette_score, adjusted_rand_score\n",
    "from sklearn.pipeline import Pipeline\n",
    "from sklearn.preprocessing import LabelEncoder, MinMaxScaler\n",
    "from sklearn.metrics import confusion_matrix\n",
    "\n",
    "def get_cwd():\n",
    "    try:\n",
    "        chdir(dirname(realpath(__file__)))\n",
    "    except:\n",
    "        chdir('C:/Users/Eric/Documents/GitHub/QuantifyingTheWorld')\n",
    "\n",
    "    active_dir = getcwd()\n",
    "       \n",
    "    return active_dir"
   ]
  },
  {
   "cell_type": "code",
   "execution_count": 6,
   "metadata": {},
   "outputs": [
    {
     "name": "stdout",
     "output_type": "stream",
     "text": [
      "Wall time: 12.9 s\n"
     ]
    }
   ],
   "source": [
    "%%time\n",
    "def main():\n",
    "    \n",
    "    get_cwd()\n",
    "    \n",
    "    directories = [\n",
    "            'sample_spam',\n",
    "            'sample_ham'\n",
    "        ]\n",
    "    \n",
    "    res_frame = pd.DataFrame()\n",
    "    \n",
    "    # Added to generate a list of text strings\n",
    "    text_list = []\n",
    "    #####\n",
    "        \n",
    "    for d in directories:\n",
    "        mypath = getcwd() + '/SpamAssassinMessages/' + d + '/'\n",
    "        onlyfiles = [f for f in listdir(mypath) if isfile(join(mypath, f))]\n",
    "    \n",
    "        try:\n",
    "            onlyfiles.remove('.DS_Store')\n",
    "        except:\n",
    "            pass\n",
    "        \n",
    "        for file in onlyfiles:\n",
    "            with open(mypath + file, encoding='latin1') as f:\n",
    "                lines = f.readlines()\n",
    "                f.close()\n",
    "                \n",
    "            in_reply_count = 0\n",
    "            sub_line_all_caps = 0\n",
    "            attachments = 0\n",
    "            subject_line = []\n",
    "            n_lines = 0\n",
    "            blank_lines = []\n",
    "            \n",
    "            # Will be appended to as the email is \"read in\"\n",
    "            temp_text_list = ''\n",
    "            #####\n",
    "            \n",
    "            for line in lines:\n",
    "               n_lines += 1\n",
    "               if \"Subject: Re: \" in line:\n",
    "                   in_reply_count += 1\n",
    "               if \"Subject: \" in line:\n",
    "                   s_line = line.strip().replace('Subject: ','')\n",
    "                   s_line = ''.join(e for e in s_line if e.isalnum())\n",
    "                   num_upper = sum(1 for c in s_line if c.isupper())\n",
    "                   ttl_chars = len(s_line)\n",
    "                   if num_upper == ttl_chars:\n",
    "                       sub_line_all_caps += 1\n",
    "                   subject_line.append(s_line)\n",
    "               if \"content-type: multipart\" in line.lower():\n",
    "                   attachments += 1\n",
    "               if line == \"\\n\":\n",
    "                   blank_lines.append(n_lines)\n",
    "\n",
    "               # Appends the current line to the existing string\n",
    "               temp_text_list += ' ' + line\n",
    "            \n",
    "            # Formats the complete email string (removing new lines and whitespaces)\n",
    "            temp_text_list = temp_text_list.replace('\\n', ' ').replace('\\r', '')\n",
    "            temp_text_string = re.sub(' +', ' ', temp_text_list)   \n",
    "            text_list.append(temp_text_string)\n",
    "            #####\n",
    "            \n",
    "        \n",
    "            temp_frame = pd.DataFrame({\n",
    "                        'filename':file,\n",
    "                        'is_spam':[1 if 'spam' in d else 0],\n",
    "                        'in_reply': [1 if in_reply_count > 0 else 0], \n",
    "                        'subj_caps': [1 if sub_line_all_caps > 0 else 0], \n",
    "                        'attachments': [1 if attachments > 0 else 0], \n",
    "                        'body_lines': n_lines - min(blank_lines)\n",
    "                        }, index=[0])\n",
    "           \n",
    "            res_frame = res_frame.append(temp_frame, ignore_index=True)\n",
    "            \n",
    "    res_frame.to_csv('output_file.csv', index=False)\n",
    "    \n",
    "    return res_frame, text_list # text_list is new\n",
    "\n",
    "########################################\n",
    "##### Main Function\n",
    "########################################    \n",
    "\n",
    "if __name__ == \"__main__\":\n",
    "    res_frame, corpus = main()\n",
    "    pass        "
   ]
  },
  {
   "cell_type": "code",
   "execution_count": 7,
   "metadata": {},
   "outputs": [
    {
     "data": {
      "text/plain": [
       "filename       0\n",
       "is_spam        0\n",
       "in_reply       0\n",
       "subj_caps      0\n",
       "attachments    0\n",
       "body_lines     0\n",
       "dtype: int64"
      ]
     },
     "execution_count": 7,
     "metadata": {},
     "output_type": "execute_result"
    }
   ],
   "source": [
    "res_frame.isnull().sum() #count of missing values by feature"
   ]
  },
  {
   "cell_type": "markdown",
   "metadata": {},
   "source": [
    "* Data preparation was created from multiple email files and types sorted by into two categories of sampled spam and non-spam.\n",
    "    * Due to limitaions of our computer systems we chose to sample selections from each type of the email files by reducing the total number of emails processed down to 1000 combined.  This was necessary as our system ran into crashes or memory errors when any number was attempted beyond this amount.\n",
    "    * The 1000 emails were sampled as follows:\n",
    "        * 500 spam\n",
    "        * 300 ham\n",
    "        * 200 hard ham (emails that were more difficult to recognize as not spam)\n",
    "        \n",
    "        \n",
    "* As emails were processed, a dataset was created that recorded the following categorical and numerical information for each:\n",
    "    * The filename for identification purposes. (categorical)\n",
    "    * Category of email type spam or non-spam. (categorical)\n",
    "    * Whether they email was marked as a reply to a previous email. (categorical)\n",
    "    * If the subject line was in all capitalized lettering. (categorical)\n",
    "    * Whether the email contained an attachment or not. (categorical)\n",
    "    * The number of body lines contained in the email (numerical)\n",
    "    \n",
    "    \n",
    "* Additionally the text of each email was recorded as a corpus and vectorized for use in the vocabulary analysis of words particular to the spam type emails.\n",
    "\n",
    "\n",
    "* No values are missing for this dataset\n",
    "\n",
    "\n",
    "* The \"filename\" attribute will be meaningless for analysis therefore this will be dropped from the data to improve performance.\n",
    "\n",
    "\n",
    "* Assumptions for this dataset based on selected models:\n",
    "    * Naive Bayes Model:\n",
    "        * Data features are assumed to be independent of each other.\n",
    "    * K-Means\n",
    "        * Clusters are sphericial in shape and of similar sizes.    \n"
   ]
  },
  {
   "cell_type": "markdown",
   "metadata": {},
   "source": [
    "<a id=\"3\"></a>\n",
    "## Modeling Preparation and EDA"
   ]
  },
  {
   "cell_type": "code",
   "execution_count": 4,
   "metadata": {},
   "outputs": [
    {
     "data": {
      "text/plain": [
       "(array([1, 0]), <a list of 2 Text xticklabel objects>)"
      ]
     },
     "execution_count": 4,
     "metadata": {},
     "output_type": "execute_result"
    },
    {
     "data": {
      "image/png": "[encoded data removed]",
      "text/plain": [
       "<Figure size 432x288 with 1 Axes>"
      ]
     },
     "metadata": {
      "needs_background": "light"
     },
     "output_type": "display_data"
    }
   ],
   "source": [
    "res_frame['is_spam'].value_counts().sort_values().plot(kind = 'bar')\n",
    "plt.xticks([1,0],['Spam','Non-spam'])\n",
    "plt.xlabel('Spam Vs Non Spam')\n",
    "plt.xticks(rotation=0)"
   ]
  },
  {
   "cell_type": "markdown",
   "metadata": {},
   "source": [
    "##### Spam count Vs Non Spam count\n",
    "The counts of spam vs non-spam are the same since our computer system could not run the full number of emails we sampled equal numbers of spam and non spam emails with 2/5 of the non-spam being comprised of the \"hard-ham\" email variety to stay consistent with the variation of email types."
   ]
  },
  {
   "cell_type": "code",
   "execution_count": 6,
   "metadata": {},
   "outputs": [
    {
     "data": {
      "image/png": "[encoded data removed]",
      "text/plain": [
       "<Figure size 432x288 with 1 Axes>"
      ]
     },
     "metadata": {
      "needs_background": "light"
     },
     "output_type": "display_data"
    }
   ],
   "source": [
    "ax = sns.boxplot(x=\"is_spam\", y=\"body_lines\", data=res_frame)"
   ]
  },
  {
   "cell_type": "markdown",
   "metadata": {},
   "source": [
    "<b>Bar Chart1</b>: We see that the number of lines in the spam email is significantly higher than the number of lines for the non spam email, so there are chances that the longer the email is it is spam. the median number of lines for spam emails were about 100 while for the number of lines for emial were about 20."
   ]
  },
  {
   "cell_type": "code",
   "execution_count": 5,
   "metadata": {},
   "outputs": [],
   "source": [
    "#res_frame.head()"
   ]
  },
  {
   "cell_type": "code",
   "execution_count": 7,
   "metadata": {
    "scrolled": true
   },
   "outputs": [
    {
     "data": {
      "image/png": "[encoded data removed]",
      "text/plain": [
       "<Figure size 432x288 with 1 Axes>"
      ]
     },
     "metadata": {
      "needs_background": "light"
     },
     "output_type": "display_data"
    }
   ],
   "source": [
    "ax = sns.boxplot(x=\"attachments\", y=\"body_lines\", hue=\"is_spam\", \n",
    "...                  data=res_frame, palette=\"Set3\")"
   ]
  },
  {
   "cell_type": "markdown",
   "metadata": {},
   "source": [
    "<b>Bar Chart2</b>: We see that for spam emails there was a higher number of body lines as well as a higher rate of attachments in comparison to non-spam emails. Spam emails with attachments had a body line count of about 120 while the spam without attachemnts had a median body line count of about 80, so generally a large number of spam comes with attachments."
   ]
  },
  {
   "cell_type": "markdown",
   "metadata": {},
   "source": [
    "<a id=\"4\"></a>\n",
    "## Modeling Building and Evaluation\n",
    "\n",
    "A Naive Bayes classifier will first be used to train a email categories which will then be run on a test set for comparison. This method is appropriate for this task as it calculates the categories of the emails based on probability of occurrence for each email.\n",
    "\n",
    "*Methods to solve Naive Bayes:*\n",
    "1. Import emails to create dataset.\n",
    "2. Vectorize email text to create word count attributes for the data.\n",
    "3. Filter stop words to reduce unnecessary text attributes and improve performance.  \n",
    "4. Use naive model to predict category of email for a test set\n",
    "5. Run confusion matrix to measure Accuracy and Precision metrics for predicted categories.\n",
    "\n",
    "K-means clustering will be used to separate the data into groups within the data based on similarities they share. This is an appropriate modeling technique as spam emails will typically contain similar text patterns or attributes that if identified as a cluster will assist in their categorization.\n",
    "\n",
    "*Method to solve Kmeans:*\n",
    "1. Import emails to create dataset.\n",
    "2. Find appropriate number of clusters (k) using elbow method and silhouette scores\n",
    "3. Create data pipeline to reduce any data leaks.\n",
    "4. Peform PCA for the two target clusters.\n",
    "5. Run confusion matrix to measure Accuracy and Precision metrics for predicted clusters.\n",
    "\n",
    "*Critical Metric (Precision)*\n",
    "\n",
    "Our critical evaluation metric for both methods will be Precision because this is used when the predicted positives are crucial. In the case of email importance if a crucial email is classified as spam important information will be lost and may cause serious problems."
   ]
  },
  {
   "cell_type": "markdown",
   "metadata": {},
   "source": [
    "### Naive Bayes Classifier"
   ]
  },
  {
   "cell_type": "code",
   "execution_count": 8,
   "metadata": {
    "scrolled": false
   },
   "outputs": [
    {
     "name": "stdout",
     "output_type": "stream",
     "text": [
      "CPU times: user 1.24 s, sys: 38.4 ms, total: 1.28 s\n",
      "Wall time: 1.33 s\n"
     ]
    }
   ],
   "source": [
    "%%time\n",
    "from sklearn.feature_extraction.text import CountVectorizer\n",
    "\n",
    "vectorizer = CountVectorizer(analyzer='word', stop_words='english', ngram_range=(2,2)) #removes stop_words from text\n",
    "X = vectorizer.fit_transform(corpus)\n",
    "#print(vectorizer.get_feature_names())"
   ]
  },
  {
   "cell_type": "code",
   "execution_count": 9,
   "metadata": {},
   "outputs": [
    {
     "name": "stdout",
     "output_type": "stream",
     "text": [
      "Accuracy of Naive Bayes classifier on test set: 0.97\n",
      "CPU times: user 2.61 s, sys: 1.24 s, total: 3.86 s\n",
      "Wall time: 4.22 s\n"
     ]
    }
   ],
   "source": [
    "%%time\n",
    "y = res_frame['is_spam'].values\n",
    "\n",
    "\n",
    "from sklearn.naive_bayes import MultinomialNB\n",
    "from sklearn.model_selection import train_test_split\n",
    "\n",
    "X_train, X_test, y_train, y_test = train_test_split(X, y, test_size=0.33, random_state=42)\n",
    "\n",
    "clf = MultinomialNB()\n",
    "clf.fit(X_train, y_train)\n",
    "\n",
    "from sklearn.metrics import accuracy_score\n",
    "print('Accuracy of Naive Bayes classifier on test set: {:.2f}'.format(accuracy_score(clf.predict(X_test), y_test)))\n",
    "    \n",
    "df = pd.DataFrame(data=X.toarray(), columns=[vectorizer.get_feature_names()])\n",
    "#df.to_csv('C:/Users/Eric/Documents/GitHub/QuantifyingTheWorld/wide_df.csv', index=False)\n",
    "#df.T.to_csv('C:/Users/Eric/Documents/GitHub/QuantifyingTheWorld/long_df.csv')\n",
    "\n",
    "\n",
    "combined_df = pd.concat([res_frame, df], axis=1)\n",
    "\n"
   ]
  },
  {
   "cell_type": "code",
   "execution_count": 10,
   "metadata": {},
   "outputs": [
    {
     "data": {
      "text/html": [
       "<div>\n",
       "<style scoped>\n",
       "    .dataframe tbody tr th:only-of-type {\n",
       "        vertical-align: middle;\n",
       "    }\n",
       "\n",
       "    .dataframe tbody tr th {\n",
       "        vertical-align: top;\n",
       "    }\n",
       "\n",
       "    .dataframe thead th {\n",
       "        text-align: right;\n",
       "    }\n",
       "</style>\n",
       "<table border=\"1\" class=\"dataframe\">\n",
       "  <thead>\n",
       "    <tr style=\"text-align: right;\">\n",
       "      <th></th>\n",
       "      <th>filename</th>\n",
       "      <th>is_spam</th>\n",
       "      <th>in_reply</th>\n",
       "      <th>subj_caps</th>\n",
       "      <th>attachments</th>\n",
       "      <th>body_lines</th>\n",
       "      <th>(00 00,)</th>\n",
       "      <th>(00 000,)</th>\n",
       "      <th>(00 0000,)</th>\n",
       "      <th>(00 01,)</th>\n",
       "      <th>...</th>\n",
       "      <th>(þ³é iän,)</th>\n",
       "      <th>(þà çò,)</th>\n",
       "      <th>(þàì ááàº,)</th>\n",
       "      <th>(þàìå ¾ææ¼½ºæ,)</th>\n",
       "      <th>(þàï àô,)</th>\n",
       "      <th>(þàïà ¹ß¼ûçø¼,)</th>\n",
       "      <th>(þàïà áö,)</th>\n",
       "      <th>(þàïà áö½ã,)</th>\n",
       "      <th>(þàïàº åë½å,)</th>\n",
       "      <th>(þàïáö¼ò çîáß,)</th>\n",
       "    </tr>\n",
       "  </thead>\n",
       "  <tbody>\n",
       "    <tr>\n",
       "      <td>0</td>\n",
       "      <td>0355.94ebf637e4bd3db8a81c8ce68ecf681d</td>\n",
       "      <td>1</td>\n",
       "      <td>0</td>\n",
       "      <td>0</td>\n",
       "      <td>1</td>\n",
       "      <td>157</td>\n",
       "      <td>0</td>\n",
       "      <td>0</td>\n",
       "      <td>0</td>\n",
       "      <td>0</td>\n",
       "      <td>...</td>\n",
       "      <td>0</td>\n",
       "      <td>0</td>\n",
       "      <td>0</td>\n",
       "      <td>0</td>\n",
       "      <td>0</td>\n",
       "      <td>0</td>\n",
       "      <td>0</td>\n",
       "      <td>0</td>\n",
       "      <td>0</td>\n",
       "      <td>0</td>\n",
       "    </tr>\n",
       "    <tr>\n",
       "      <td>1</td>\n",
       "      <td>0395.bb934e8b4c39d5eab38f828a26f760b4</td>\n",
       "      <td>1</td>\n",
       "      <td>0</td>\n",
       "      <td>0</td>\n",
       "      <td>1</td>\n",
       "      <td>242</td>\n",
       "      <td>0</td>\n",
       "      <td>0</td>\n",
       "      <td>0</td>\n",
       "      <td>0</td>\n",
       "      <td>...</td>\n",
       "      <td>0</td>\n",
       "      <td>0</td>\n",
       "      <td>0</td>\n",
       "      <td>0</td>\n",
       "      <td>0</td>\n",
       "      <td>0</td>\n",
       "      <td>0</td>\n",
       "      <td>0</td>\n",
       "      <td>0</td>\n",
       "      <td>0</td>\n",
       "    </tr>\n",
       "    <tr>\n",
       "      <td>2</td>\n",
       "      <td>00012.cb9c9f2a25196f5b16512338625a85b4</td>\n",
       "      <td>1</td>\n",
       "      <td>0</td>\n",
       "      <td>0</td>\n",
       "      <td>0</td>\n",
       "      <td>136</td>\n",
       "      <td>0</td>\n",
       "      <td>0</td>\n",
       "      <td>0</td>\n",
       "      <td>0</td>\n",
       "      <td>...</td>\n",
       "      <td>0</td>\n",
       "      <td>0</td>\n",
       "      <td>0</td>\n",
       "      <td>0</td>\n",
       "      <td>0</td>\n",
       "      <td>0</td>\n",
       "      <td>0</td>\n",
       "      <td>0</td>\n",
       "      <td>0</td>\n",
       "      <td>0</td>\n",
       "    </tr>\n",
       "    <tr>\n",
       "      <td>3</td>\n",
       "      <td>0485.9021367278833179285091e5201f5854</td>\n",
       "      <td>1</td>\n",
       "      <td>0</td>\n",
       "      <td>0</td>\n",
       "      <td>0</td>\n",
       "      <td>87</td>\n",
       "      <td>0</td>\n",
       "      <td>0</td>\n",
       "      <td>0</td>\n",
       "      <td>0</td>\n",
       "      <td>...</td>\n",
       "      <td>0</td>\n",
       "      <td>0</td>\n",
       "      <td>0</td>\n",
       "      <td>0</td>\n",
       "      <td>0</td>\n",
       "      <td>0</td>\n",
       "      <td>0</td>\n",
       "      <td>0</td>\n",
       "      <td>0</td>\n",
       "      <td>0</td>\n",
       "    </tr>\n",
       "    <tr>\n",
       "      <td>4</td>\n",
       "      <td>00214.1367039e50dc6b7adb0f2aa8aba83216</td>\n",
       "      <td>1</td>\n",
       "      <td>0</td>\n",
       "      <td>0</td>\n",
       "      <td>1</td>\n",
       "      <td>171</td>\n",
       "      <td>0</td>\n",
       "      <td>0</td>\n",
       "      <td>0</td>\n",
       "      <td>0</td>\n",
       "      <td>...</td>\n",
       "      <td>0</td>\n",
       "      <td>0</td>\n",
       "      <td>0</td>\n",
       "      <td>0</td>\n",
       "      <td>0</td>\n",
       "      <td>0</td>\n",
       "      <td>0</td>\n",
       "      <td>0</td>\n",
       "      <td>0</td>\n",
       "      <td>0</td>\n",
       "    </tr>\n",
       "    <tr>\n",
       "      <td>...</td>\n",
       "      <td>...</td>\n",
       "      <td>...</td>\n",
       "      <td>...</td>\n",
       "      <td>...</td>\n",
       "      <td>...</td>\n",
       "      <td>...</td>\n",
       "      <td>...</td>\n",
       "      <td>...</td>\n",
       "      <td>...</td>\n",
       "      <td>...</td>\n",
       "      <td>...</td>\n",
       "      <td>...</td>\n",
       "      <td>...</td>\n",
       "      <td>...</td>\n",
       "      <td>...</td>\n",
       "      <td>...</td>\n",
       "      <td>...</td>\n",
       "      <td>...</td>\n",
       "      <td>...</td>\n",
       "      <td>...</td>\n",
       "      <td>...</td>\n",
       "    </tr>\n",
       "    <tr>\n",
       "      <td>995</td>\n",
       "      <td>02004.58880d4612fa6d656058f7d919a8a931</td>\n",
       "      <td>0</td>\n",
       "      <td>0</td>\n",
       "      <td>0</td>\n",
       "      <td>0</td>\n",
       "      <td>6</td>\n",
       "      <td>0</td>\n",
       "      <td>0</td>\n",
       "      <td>0</td>\n",
       "      <td>0</td>\n",
       "      <td>...</td>\n",
       "      <td>0</td>\n",
       "      <td>0</td>\n",
       "      <td>0</td>\n",
       "      <td>0</td>\n",
       "      <td>0</td>\n",
       "      <td>0</td>\n",
       "      <td>0</td>\n",
       "      <td>0</td>\n",
       "      <td>0</td>\n",
       "      <td>0</td>\n",
       "    </tr>\n",
       "    <tr>\n",
       "      <td>996</td>\n",
       "      <td>1838.d038cbb36f734c5ddbb023d074711d10</td>\n",
       "      <td>0</td>\n",
       "      <td>0</td>\n",
       "      <td>0</td>\n",
       "      <td>0</td>\n",
       "      <td>11</td>\n",
       "      <td>0</td>\n",
       "      <td>0</td>\n",
       "      <td>0</td>\n",
       "      <td>0</td>\n",
       "      <td>...</td>\n",
       "      <td>0</td>\n",
       "      <td>0</td>\n",
       "      <td>0</td>\n",
       "      <td>0</td>\n",
       "      <td>0</td>\n",
       "      <td>0</td>\n",
       "      <td>0</td>\n",
       "      <td>0</td>\n",
       "      <td>0</td>\n",
       "      <td>0</td>\n",
       "    </tr>\n",
       "    <tr>\n",
       "      <td>997</td>\n",
       "      <td>01725.80327e3b2580e1e277165899b2532871</td>\n",
       "      <td>0</td>\n",
       "      <td>0</td>\n",
       "      <td>0</td>\n",
       "      <td>0</td>\n",
       "      <td>12</td>\n",
       "      <td>0</td>\n",
       "      <td>0</td>\n",
       "      <td>0</td>\n",
       "      <td>0</td>\n",
       "      <td>...</td>\n",
       "      <td>0</td>\n",
       "      <td>0</td>\n",
       "      <td>0</td>\n",
       "      <td>0</td>\n",
       "      <td>0</td>\n",
       "      <td>0</td>\n",
       "      <td>0</td>\n",
       "      <td>0</td>\n",
       "      <td>0</td>\n",
       "      <td>0</td>\n",
       "    </tr>\n",
       "    <tr>\n",
       "      <td>998</td>\n",
       "      <td>02178.efa76e272d764da2a8392d836722e5f9</td>\n",
       "      <td>0</td>\n",
       "      <td>0</td>\n",
       "      <td>0</td>\n",
       "      <td>0</td>\n",
       "      <td>7</td>\n",
       "      <td>0</td>\n",
       "      <td>0</td>\n",
       "      <td>0</td>\n",
       "      <td>0</td>\n",
       "      <td>...</td>\n",
       "      <td>0</td>\n",
       "      <td>0</td>\n",
       "      <td>0</td>\n",
       "      <td>0</td>\n",
       "      <td>0</td>\n",
       "      <td>0</td>\n",
       "      <td>0</td>\n",
       "      <td>0</td>\n",
       "      <td>0</td>\n",
       "      <td>0</td>\n",
       "    </tr>\n",
       "    <tr>\n",
       "      <td>999</td>\n",
       "      <td>02056.7bc7703e40a24dda665d4ce7b0cba710</td>\n",
       "      <td>0</td>\n",
       "      <td>0</td>\n",
       "      <td>0</td>\n",
       "      <td>0</td>\n",
       "      <td>7</td>\n",
       "      <td>0</td>\n",
       "      <td>0</td>\n",
       "      <td>0</td>\n",
       "      <td>0</td>\n",
       "      <td>...</td>\n",
       "      <td>0</td>\n",
       "      <td>0</td>\n",
       "      <td>0</td>\n",
       "      <td>0</td>\n",
       "      <td>0</td>\n",
       "      <td>0</td>\n",
       "      <td>0</td>\n",
       "      <td>0</td>\n",
       "      <td>0</td>\n",
       "      <td>0</td>\n",
       "    </tr>\n",
       "  </tbody>\n",
       "</table>\n",
       "<p>1000 rows × 151695 columns</p>\n",
       "</div>"
      ],
      "text/plain": [
       "                                   filename  is_spam  in_reply  subj_caps  \\\n",
       "0     0355.94ebf637e4bd3db8a81c8ce68ecf681d        1         0          0   \n",
       "1     0395.bb934e8b4c39d5eab38f828a26f760b4        1         0          0   \n",
       "2    00012.cb9c9f2a25196f5b16512338625a85b4        1         0          0   \n",
       "3     0485.9021367278833179285091e5201f5854        1         0          0   \n",
       "4    00214.1367039e50dc6b7adb0f2aa8aba83216        1         0          0   \n",
       "..                                      ...      ...       ...        ...   \n",
       "995  02004.58880d4612fa6d656058f7d919a8a931        0         0          0   \n",
       "996   1838.d038cbb36f734c5ddbb023d074711d10        0         0          0   \n",
       "997  01725.80327e3b2580e1e277165899b2532871        0         0          0   \n",
       "998  02178.efa76e272d764da2a8392d836722e5f9        0         0          0   \n",
       "999  02056.7bc7703e40a24dda665d4ce7b0cba710        0         0          0   \n",
       "\n",
       "     attachments  body_lines  (00 00,)  (00 000,)  (00 0000,)  (00 01,)  ...  \\\n",
       "0              1         157         0          0           0         0  ...   \n",
       "1              1         242         0          0           0         0  ...   \n",
       "2              0         136         0          0           0         0  ...   \n",
       "3              0          87         0          0           0         0  ...   \n",
       "4              1         171         0          0           0         0  ...   \n",
       "..           ...         ...       ...        ...         ...       ...  ...   \n",
       "995            0           6         0          0           0         0  ...   \n",
       "996            0          11         0          0           0         0  ...   \n",
       "997            0          12         0          0           0         0  ...   \n",
       "998            0           7         0          0           0         0  ...   \n",
       "999            0           7         0          0           0         0  ...   \n",
       "\n",
       "     (þ³é iän,)  (þà çò,)  (þàì ááàº,)  (þàìå ¾ææ¼½ºæ,)  (þàï àô,)  \\\n",
       "0             0         0            0                0          0   \n",
       "1             0         0            0                0          0   \n",
       "2             0         0            0                0          0   \n",
       "3             0         0            0                0          0   \n",
       "4             0         0            0                0          0   \n",
       "..          ...       ...          ...              ...        ...   \n",
       "995           0         0            0                0          0   \n",
       "996           0         0            0                0          0   \n",
       "997           0         0            0                0          0   \n",
       "998           0         0            0                0          0   \n",
       "999           0         0            0                0          0   \n",
       "\n",
       "     (þàïà ¹ß¼ûçø¼,)  (þàïà áö,)  (þàïà áö½ã,)  (þàïàº åë½å,)  (þàïáö¼ò çîáß,)  \n",
       "0                  0           0             0              0                0  \n",
       "1                  0           0             0              0                0  \n",
       "2                  0           0             0              0                0  \n",
       "3                  0           0             0              0                0  \n",
       "4                  0           0             0              0                0  \n",
       "..               ...         ...           ...            ...              ...  \n",
       "995                0           0             0              0                0  \n",
       "996                0           0             0              0                0  \n",
       "997                0           0             0              0                0  \n",
       "998                0           0             0              0                0  \n",
       "999                0           0             0              0                0  \n",
       "\n",
       "[1000 rows x 151695 columns]"
      ]
     },
     "execution_count": 10,
     "metadata": {},
     "output_type": "execute_result"
    }
   ],
   "source": [
    "combined_df"
   ]
  },
  {
   "cell_type": "code",
   "execution_count": 11,
   "metadata": {
    "scrolled": true
   },
   "outputs": [
    {
     "name": "stdout",
     "output_type": "stream",
     "text": [
      "[1]\n",
      "[[0. 1.]]\n"
     ]
    }
   ],
   "source": [
    "#Sample NaiveBays Prediction\n",
    "print(clf.predict(X[5])) \n",
    "print(clf.predict_proba(X[5]))   "
   ]
  },
  {
   "cell_type": "code",
   "execution_count": 12,
   "metadata": {},
   "outputs": [
    {
     "name": "stdout",
     "output_type": "stream",
     "text": [
      "              precision    recall  f1-score   support\n",
      "\n",
      "           0       0.94      1.00      0.97       165\n",
      "           1       1.00      0.94      0.97       165\n",
      "\n",
      "    accuracy                           0.97       330\n",
      "   macro avg       0.97      0.97      0.97       330\n",
      "weighted avg       0.97      0.97      0.97       330\n",
      "\n"
     ]
    }
   ],
   "source": [
    "from sklearn.metrics import classification_report\n",
    "#1 is spam, 0 is not spam\n",
    "y_pred = clf.predict(X_test)\n",
    "print(classification_report(y_test, y_pred))"
   ]
  },
  {
   "cell_type": "code",
   "execution_count": 13,
   "metadata": {},
   "outputs": [
    {
     "data": {
      "text/plain": [
       "<matplotlib.axes._subplots.AxesSubplot at 0x1a1f09b6d0>"
      ]
     },
     "execution_count": 13,
     "metadata": {},
     "output_type": "execute_result"
    },
    {
     "data": {
      "image/png": "[encoded data removed]",
      "text/plain": [
       "<Figure size 720x576 with 2 Axes>"
      ]
     },
     "metadata": {
      "needs_background": "light"
     },
     "output_type": "display_data"
    }
   ],
   "source": [
    "cf_test_matrix = confusion_matrix(y_test, y_pred)\n",
    "plt.figure(figsize=(10,8))\n",
    "sns.heatmap(cf_test_matrix, annot=True, fmt='d')"
   ]
  },
  {
   "cell_type": "markdown",
   "metadata": {},
   "source": [
    "### Clustering"
   ]
  },
  {
   "cell_type": "code",
   "execution_count": 14,
   "metadata": {},
   "outputs": [
    {
     "name": "stdout",
     "output_type": "stream",
     "text": [
      "CPU times: user 1.72 s, sys: 3.05 s, total: 4.77 s\n",
      "Wall time: 5.95 s\n"
     ]
    },
    {
     "data": {
      "text/html": [
       "<div>\n",
       "<style scoped>\n",
       "    .dataframe tbody tr th:only-of-type {\n",
       "        vertical-align: middle;\n",
       "    }\n",
       "\n",
       "    .dataframe tbody tr th {\n",
       "        vertical-align: top;\n",
       "    }\n",
       "\n",
       "    .dataframe thead th {\n",
       "        text-align: right;\n",
       "    }\n",
       "</style>\n",
       "<table border=\"1\" class=\"dataframe\">\n",
       "  <thead>\n",
       "    <tr style=\"text-align: right;\">\n",
       "      <th></th>\n",
       "      <th>is_spam</th>\n",
       "      <th>in_reply</th>\n",
       "      <th>subj_caps</th>\n",
       "      <th>attachments</th>\n",
       "      <th>body_lines</th>\n",
       "      <th>(00 00,)</th>\n",
       "      <th>(00 000,)</th>\n",
       "      <th>(00 0000,)</th>\n",
       "      <th>(00 01,)</th>\n",
       "      <th>(00 0100,)</th>\n",
       "      <th>...</th>\n",
       "      <th>(þ³é iän,)</th>\n",
       "      <th>(þà çò,)</th>\n",
       "      <th>(þàì ááàº,)</th>\n",
       "      <th>(þàìå ¾ææ¼½ºæ,)</th>\n",
       "      <th>(þàï àô,)</th>\n",
       "      <th>(þàïà ¹ß¼ûçø¼,)</th>\n",
       "      <th>(þàïà áö,)</th>\n",
       "      <th>(þàïà áö½ã,)</th>\n",
       "      <th>(þàïàº åë½å,)</th>\n",
       "      <th>(þàïáö¼ò çîáß,)</th>\n",
       "    </tr>\n",
       "  </thead>\n",
       "  <tbody>\n",
       "    <tr>\n",
       "      <td>0</td>\n",
       "      <td>1</td>\n",
       "      <td>0</td>\n",
       "      <td>0</td>\n",
       "      <td>1</td>\n",
       "      <td>157</td>\n",
       "      <td>0</td>\n",
       "      <td>0</td>\n",
       "      <td>0</td>\n",
       "      <td>0</td>\n",
       "      <td>0</td>\n",
       "      <td>...</td>\n",
       "      <td>0</td>\n",
       "      <td>0</td>\n",
       "      <td>0</td>\n",
       "      <td>0</td>\n",
       "      <td>0</td>\n",
       "      <td>0</td>\n",
       "      <td>0</td>\n",
       "      <td>0</td>\n",
       "      <td>0</td>\n",
       "      <td>0</td>\n",
       "    </tr>\n",
       "    <tr>\n",
       "      <td>1</td>\n",
       "      <td>1</td>\n",
       "      <td>0</td>\n",
       "      <td>0</td>\n",
       "      <td>1</td>\n",
       "      <td>242</td>\n",
       "      <td>0</td>\n",
       "      <td>0</td>\n",
       "      <td>0</td>\n",
       "      <td>0</td>\n",
       "      <td>0</td>\n",
       "      <td>...</td>\n",
       "      <td>0</td>\n",
       "      <td>0</td>\n",
       "      <td>0</td>\n",
       "      <td>0</td>\n",
       "      <td>0</td>\n",
       "      <td>0</td>\n",
       "      <td>0</td>\n",
       "      <td>0</td>\n",
       "      <td>0</td>\n",
       "      <td>0</td>\n",
       "    </tr>\n",
       "    <tr>\n",
       "      <td>2</td>\n",
       "      <td>1</td>\n",
       "      <td>0</td>\n",
       "      <td>0</td>\n",
       "      <td>0</td>\n",
       "      <td>136</td>\n",
       "      <td>0</td>\n",
       "      <td>0</td>\n",
       "      <td>0</td>\n",
       "      <td>0</td>\n",
       "      <td>0</td>\n",
       "      <td>...</td>\n",
       "      <td>0</td>\n",
       "      <td>0</td>\n",
       "      <td>0</td>\n",
       "      <td>0</td>\n",
       "      <td>0</td>\n",
       "      <td>0</td>\n",
       "      <td>0</td>\n",
       "      <td>0</td>\n",
       "      <td>0</td>\n",
       "      <td>0</td>\n",
       "    </tr>\n",
       "    <tr>\n",
       "      <td>3</td>\n",
       "      <td>1</td>\n",
       "      <td>0</td>\n",
       "      <td>0</td>\n",
       "      <td>0</td>\n",
       "      <td>87</td>\n",
       "      <td>0</td>\n",
       "      <td>0</td>\n",
       "      <td>0</td>\n",
       "      <td>0</td>\n",
       "      <td>0</td>\n",
       "      <td>...</td>\n",
       "      <td>0</td>\n",
       "      <td>0</td>\n",
       "      <td>0</td>\n",
       "      <td>0</td>\n",
       "      <td>0</td>\n",
       "      <td>0</td>\n",
       "      <td>0</td>\n",
       "      <td>0</td>\n",
       "      <td>0</td>\n",
       "      <td>0</td>\n",
       "    </tr>\n",
       "    <tr>\n",
       "      <td>4</td>\n",
       "      <td>1</td>\n",
       "      <td>0</td>\n",
       "      <td>0</td>\n",
       "      <td>1</td>\n",
       "      <td>171</td>\n",
       "      <td>0</td>\n",
       "      <td>0</td>\n",
       "      <td>0</td>\n",
       "      <td>0</td>\n",
       "      <td>0</td>\n",
       "      <td>...</td>\n",
       "      <td>0</td>\n",
       "      <td>0</td>\n",
       "      <td>0</td>\n",
       "      <td>0</td>\n",
       "      <td>0</td>\n",
       "      <td>0</td>\n",
       "      <td>0</td>\n",
       "      <td>0</td>\n",
       "      <td>0</td>\n",
       "      <td>0</td>\n",
       "    </tr>\n",
       "    <tr>\n",
       "      <td>...</td>\n",
       "      <td>...</td>\n",
       "      <td>...</td>\n",
       "      <td>...</td>\n",
       "      <td>...</td>\n",
       "      <td>...</td>\n",
       "      <td>...</td>\n",
       "      <td>...</td>\n",
       "      <td>...</td>\n",
       "      <td>...</td>\n",
       "      <td>...</td>\n",
       "      <td>...</td>\n",
       "      <td>...</td>\n",
       "      <td>...</td>\n",
       "      <td>...</td>\n",
       "      <td>...</td>\n",
       "      <td>...</td>\n",
       "      <td>...</td>\n",
       "      <td>...</td>\n",
       "      <td>...</td>\n",
       "      <td>...</td>\n",
       "      <td>...</td>\n",
       "    </tr>\n",
       "    <tr>\n",
       "      <td>995</td>\n",
       "      <td>0</td>\n",
       "      <td>0</td>\n",
       "      <td>0</td>\n",
       "      <td>0</td>\n",
       "      <td>6</td>\n",
       "      <td>0</td>\n",
       "      <td>0</td>\n",
       "      <td>0</td>\n",
       "      <td>0</td>\n",
       "      <td>0</td>\n",
       "      <td>...</td>\n",
       "      <td>0</td>\n",
       "      <td>0</td>\n",
       "      <td>0</td>\n",
       "      <td>0</td>\n",
       "      <td>0</td>\n",
       "      <td>0</td>\n",
       "      <td>0</td>\n",
       "      <td>0</td>\n",
       "      <td>0</td>\n",
       "      <td>0</td>\n",
       "    </tr>\n",
       "    <tr>\n",
       "      <td>996</td>\n",
       "      <td>0</td>\n",
       "      <td>0</td>\n",
       "      <td>0</td>\n",
       "      <td>0</td>\n",
       "      <td>11</td>\n",
       "      <td>0</td>\n",
       "      <td>0</td>\n",
       "      <td>0</td>\n",
       "      <td>0</td>\n",
       "      <td>0</td>\n",
       "      <td>...</td>\n",
       "      <td>0</td>\n",
       "      <td>0</td>\n",
       "      <td>0</td>\n",
       "      <td>0</td>\n",
       "      <td>0</td>\n",
       "      <td>0</td>\n",
       "      <td>0</td>\n",
       "      <td>0</td>\n",
       "      <td>0</td>\n",
       "      <td>0</td>\n",
       "    </tr>\n",
       "    <tr>\n",
       "      <td>997</td>\n",
       "      <td>0</td>\n",
       "      <td>0</td>\n",
       "      <td>0</td>\n",
       "      <td>0</td>\n",
       "      <td>12</td>\n",
       "      <td>0</td>\n",
       "      <td>0</td>\n",
       "      <td>0</td>\n",
       "      <td>0</td>\n",
       "      <td>0</td>\n",
       "      <td>...</td>\n",
       "      <td>0</td>\n",
       "      <td>0</td>\n",
       "      <td>0</td>\n",
       "      <td>0</td>\n",
       "      <td>0</td>\n",
       "      <td>0</td>\n",
       "      <td>0</td>\n",
       "      <td>0</td>\n",
       "      <td>0</td>\n",
       "      <td>0</td>\n",
       "    </tr>\n",
       "    <tr>\n",
       "      <td>998</td>\n",
       "      <td>0</td>\n",
       "      <td>0</td>\n",
       "      <td>0</td>\n",
       "      <td>0</td>\n",
       "      <td>7</td>\n",
       "      <td>0</td>\n",
       "      <td>0</td>\n",
       "      <td>0</td>\n",
       "      <td>0</td>\n",
       "      <td>0</td>\n",
       "      <td>...</td>\n",
       "      <td>0</td>\n",
       "      <td>0</td>\n",
       "      <td>0</td>\n",
       "      <td>0</td>\n",
       "      <td>0</td>\n",
       "      <td>0</td>\n",
       "      <td>0</td>\n",
       "      <td>0</td>\n",
       "      <td>0</td>\n",
       "      <td>0</td>\n",
       "    </tr>\n",
       "    <tr>\n",
       "      <td>999</td>\n",
       "      <td>0</td>\n",
       "      <td>0</td>\n",
       "      <td>0</td>\n",
       "      <td>0</td>\n",
       "      <td>7</td>\n",
       "      <td>0</td>\n",
       "      <td>0</td>\n",
       "      <td>0</td>\n",
       "      <td>0</td>\n",
       "      <td>0</td>\n",
       "      <td>...</td>\n",
       "      <td>0</td>\n",
       "      <td>0</td>\n",
       "      <td>0</td>\n",
       "      <td>0</td>\n",
       "      <td>0</td>\n",
       "      <td>0</td>\n",
       "      <td>0</td>\n",
       "      <td>0</td>\n",
       "      <td>0</td>\n",
       "      <td>0</td>\n",
       "    </tr>\n",
       "  </tbody>\n",
       "</table>\n",
       "<p>1000 rows × 151694 columns</p>\n",
       "</div>"
      ],
      "text/plain": [
       "     is_spam  in_reply  subj_caps  attachments  body_lines  (00 00,)  \\\n",
       "0          1         0          0            1         157         0   \n",
       "1          1         0          0            1         242         0   \n",
       "2          1         0          0            0         136         0   \n",
       "3          1         0          0            0          87         0   \n",
       "4          1         0          0            1         171         0   \n",
       "..       ...       ...        ...          ...         ...       ...   \n",
       "995        0         0          0            0           6         0   \n",
       "996        0         0          0            0          11         0   \n",
       "997        0         0          0            0          12         0   \n",
       "998        0         0          0            0           7         0   \n",
       "999        0         0          0            0           7         0   \n",
       "\n",
       "     (00 000,)  (00 0000,)  (00 01,)  (00 0100,)  ...  (þ³é iän,)  (þà çò,)  \\\n",
       "0            0           0         0           0  ...           0         0   \n",
       "1            0           0         0           0  ...           0         0   \n",
       "2            0           0         0           0  ...           0         0   \n",
       "3            0           0         0           0  ...           0         0   \n",
       "4            0           0         0           0  ...           0         0   \n",
       "..         ...         ...       ...         ...  ...         ...       ...   \n",
       "995          0           0         0           0  ...           0         0   \n",
       "996          0           0         0           0  ...           0         0   \n",
       "997          0           0         0           0  ...           0         0   \n",
       "998          0           0         0           0  ...           0         0   \n",
       "999          0           0         0           0  ...           0         0   \n",
       "\n",
       "     (þàì ááàº,)  (þàìå ¾ææ¼½ºæ,)  (þàï àô,)  (þàïà ¹ß¼ûçø¼,)  (þàïà áö,)  \\\n",
       "0              0                0          0                0           0   \n",
       "1              0                0          0                0           0   \n",
       "2              0                0          0                0           0   \n",
       "3              0                0          0                0           0   \n",
       "4              0                0          0                0           0   \n",
       "..           ...              ...        ...              ...         ...   \n",
       "995            0                0          0                0           0   \n",
       "996            0                0          0                0           0   \n",
       "997            0                0          0                0           0   \n",
       "998            0                0          0                0           0   \n",
       "999            0                0          0                0           0   \n",
       "\n",
       "     (þàïà áö½ã,)  (þàïàº åë½å,)  (þàïáö¼ò çîáß,)  \n",
       "0               0              0                0  \n",
       "1               0              0                0  \n",
       "2               0              0                0  \n",
       "3               0              0                0  \n",
       "4               0              0                0  \n",
       "..            ...            ...              ...  \n",
       "995             0              0                0  \n",
       "996             0              0                0  \n",
       "997             0              0                0  \n",
       "998             0              0                0  \n",
       "999             0              0                0  \n",
       "\n",
       "[1000 rows x 151694 columns]"
      ]
     },
     "execution_count": 14,
     "metadata": {},
     "output_type": "execute_result"
    }
   ],
   "source": [
    "%%time\n",
    "#attr_df = pd.read_csv('output_file.csv')\n",
    "encoded_df = combined_df.drop(['filename'], axis=1)\n",
    "\n",
    "encoded_df"
   ]
  },
  {
   "cell_type": "code",
   "execution_count": 15,
   "metadata": {},
   "outputs": [
    {
     "name": "stdout",
     "output_type": "stream",
     "text": [
      "CPU times: user 1.37 s, sys: 1.71 s, total: 3.08 s\n",
      "Wall time: 3.54 s\n"
     ]
    }
   ],
   "source": [
    "%%time\n",
    "y_enc = encoded_df['is_spam']\n",
    "X_enc = encoded_df.drop(['is_spam'], axis=1)\n",
    "\n",
    "X_train2, X_test2, y_train2, y_test2 = train_test_split(X_enc, y_enc, test_size=0.33, random_state=42)"
   ]
  },
  {
   "cell_type": "markdown",
   "metadata": {},
   "source": [
    "### K-Means Clustering"
   ]
  },
  {
   "cell_type": "code",
   "execution_count": 16,
   "metadata": {},
   "outputs": [
    {
     "name": "stdout",
     "output_type": "stream",
     "text": [
      "CPU times: user 7min 32s, sys: 2min 11s, total: 9min 43s\n",
      "Wall time: 10min 12s\n"
     ]
    }
   ],
   "source": [
    "%%time\n",
    "# SumSquareError values for each k 1-7\n",
    "sse = []\n",
    "for k in range(1, 7):\n",
    "    kmeans = KMeans(init=\"random\", n_clusters=k, n_init=10, max_iter=300, random_state=42)\n",
    "    kmeans.fit(encoded_df)\n",
    "    sse.append(kmeans.inertia_)"
   ]
  },
  {
   "cell_type": "markdown",
   "metadata": {},
   "source": [
    "### Elbow Join Method for Selection of K-Clusters"
   ]
  },
  {
   "cell_type": "code",
   "execution_count": 17,
   "metadata": {},
   "outputs": [
    {
     "data": {
      "image/png": "[encoded data removed]",
      "text/plain": [
       "<Figure size 864x432 with 1 Axes>"
      ]
     },
     "metadata": {},
     "output_type": "display_data"
    }
   ],
   "source": [
    "#Elbow Joint Method for Best Number of Clusters \n",
    "plt.style.use(\"fivethirtyeight\")\n",
    "plt.figure(figsize=(12,6))\n",
    "plt.plot(range(1, 7), sse)\n",
    "plt.xticks(range(1, 7))\n",
    "plt.xlabel(\"Number of Clusters\")\n",
    "plt.ylabel(\"SSE\")\n",
    "plt.show()"
   ]
  },
  {
   "cell_type": "markdown",
   "metadata": {},
   "source": [
    "### Silhouette Score for Selection of K-Clusters"
   ]
  },
  {
   "cell_type": "code",
   "execution_count": 18,
   "metadata": {},
   "outputs": [
    {
     "name": "stdout",
     "output_type": "stream",
     "text": [
      "CPU times: user 7min 32s, sys: 1min 57s, total: 9min 29s\n",
      "Wall time: 9min 48s\n"
     ]
    }
   ],
   "source": [
    "%%time\n",
    "# A list holds the silhouette coefficients for each k\n",
    "silhouette_coefficients = []\n",
    "\n",
    "# Notice you start at 2 clusters for silhouette coefficient\n",
    "for k in range(2, 7):\n",
    "    kmeans = KMeans(init=\"random\", n_clusters=k, n_init=10, max_iter=300, random_state=42)\n",
    "    kmeans.fit(encoded_df)\n",
    "    score = silhouette_score(encoded_df, kmeans.labels_)\n",
    "    silhouette_coefficients.append(score)"
   ]
  },
  {
   "cell_type": "code",
   "execution_count": 19,
   "metadata": {},
   "outputs": [
    {
     "data": {
      "image/png": "[encoded data removed]",
      "text/plain": [
       "<Figure size 864x432 with 1 Axes>"
      ]
     },
     "metadata": {},
     "output_type": "display_data"
    }
   ],
   "source": [
    "plt.style.use(\"fivethirtyeight\")\n",
    "plt.figure(figsize=(12,6))\n",
    "plt.plot(range(2, 7), silhouette_coefficients)\n",
    "plt.xticks(range(2, 7))\n",
    "plt.xlabel(\"Number of Clusters\")\n",
    "plt.ylabel(\"Silhouette Coefficient\")\n",
    "plt.show()"
   ]
  },
  {
   "cell_type": "code",
   "execution_count": 20,
   "metadata": {},
   "outputs": [],
   "source": [
    "n_clusters = 2 #Clusters based on highest sil score"
   ]
  },
  {
   "cell_type": "markdown",
   "metadata": {},
   "source": [
    "### K-Means Clustering Pipeline"
   ]
  },
  {
   "cell_type": "code",
   "execution_count": 29,
   "metadata": {},
   "outputs": [
    {
     "name": "stdout",
     "output_type": "stream",
     "text": [
      "CPU times: user 6.08 s, sys: 1.03 s, total: 7.11 s\n",
      "Wall time: 4.56 s\n"
     ]
    },
    {
     "data": {
      "text/plain": [
       "Pipeline(memory=None,\n",
       "         steps=[('preprocessor',\n",
       "                 Pipeline(memory=None,\n",
       "                          steps=[('scaler',\n",
       "                                  MinMaxScaler(copy=True,\n",
       "                                               feature_range=(0, 1))),\n",
       "                                 ('pca',\n",
       "                                  PCA(copy=True, iterated_power='auto',\n",
       "                                      n_components=2, random_state=42,\n",
       "                                      svd_solver='auto', tol=0.0,\n",
       "                                      whiten=False))],\n",
       "                          verbose=False)),\n",
       "                ('clusterer',\n",
       "                 Pipeline(memory=None,\n",
       "                          steps=[('kmeans',\n",
       "                                  KMeans(algorithm='auto', copy_x=True,\n",
       "                                         init='k-means++', max_iter=500,\n",
       "                                         n_clusters=2, n_init=50, n_jobs=None,\n",
       "                                         precompute_distances='auto',\n",
       "                                         random_state=42, tol=0.0001,\n",
       "                                         verbose=0))],\n",
       "                          verbose=False))],\n",
       "         verbose=False)"
      ]
     },
     "execution_count": 29,
     "metadata": {},
     "output_type": "execute_result"
    }
   ],
   "source": [
    "%%time\n",
    "#PCA for dimensionality reduction\n",
    "preprocessor = Pipeline([(\"scaler\", MinMaxScaler()),(\"pca\", PCA(n_components=2, random_state=42)),])\n",
    "clusterer = Pipeline([(\"kmeans\", KMeans(n_clusters=n_clusters,init=\"k-means++\",n_init=50,max_iter=500,random_state=42,),),])\n",
    "pipe = Pipeline([(\"preprocessor\", preprocessor),(\"clusterer\", clusterer)])\n",
    "pipe.fit(X_test2)"
   ]
  },
  {
   "cell_type": "code",
   "execution_count": 30,
   "metadata": {},
   "outputs": [
    {
     "name": "stdout",
     "output_type": "stream",
     "text": [
      "CPU times: user 644 ms, sys: 309 ms, total: 954 ms\n",
      "Wall time: 928 ms\n"
     ]
    },
    {
     "data": {
      "text/plain": [
       "0.9765743875122482"
      ]
     },
     "execution_count": 30,
     "metadata": {},
     "output_type": "execute_result"
    }
   ],
   "source": [
    "%%time\n",
    "preprocessed_data = pipe[\"preprocessor\"].transform(X_test2)\n",
    "predicted_labels = pipe[\"clusterer\"][\"kmeans\"].labels_\n",
    "silhouette_score(preprocessed_data, predicted_labels)"
   ]
  },
  {
   "cell_type": "code",
   "execution_count": 31,
   "metadata": {},
   "outputs": [],
   "source": [
    "pcadf = pd.DataFrame(pipe[\"preprocessor\"].transform(X_test2),columns=[\"component_1\", \"component_2\"],)\n",
    "pcadf[\"predicted_cluster\"] = pipe[\"clusterer\"][\"kmeans\"].labels_"
   ]
  },
  {
   "cell_type": "code",
   "execution_count": 32,
   "metadata": {},
   "outputs": [
    {
     "data": {
      "image/png": "[encoded data removed]",
      "text/plain": [
       "<Figure size 576x576 with 1 Axes>"
      ]
     },
     "metadata": {},
     "output_type": "display_data"
    }
   ],
   "source": [
    "plt.style.use(\"fivethirtyeight\")\n",
    "plt.figure(figsize=(8, 8))\n",
    "scat = sns.scatterplot(x=\"component_1\",y=\"component_2\",s=50,data=pcadf,hue=\"predicted_cluster\",palette=\"Set1\")\n",
    "scat.set_title(\"Clustering Results for Email Data\")\n",
    "plt.show()"
   ]
  },
  {
   "cell_type": "code",
   "execution_count": 33,
   "metadata": {},
   "outputs": [
    {
     "data": {
      "text/plain": [
       "1.1079071689303333"
      ]
     },
     "execution_count": 33,
     "metadata": {},
     "output_type": "execute_result"
    }
   ],
   "source": [
    "preprocessor.steps[1][1].noise_variance_"
   ]
  },
  {
   "cell_type": "code",
   "execution_count": 34,
   "metadata": {},
   "outputs": [
    {
     "data": {
      "text/plain": [
       "0.5060606060606061"
      ]
     },
     "execution_count": 34,
     "metadata": {},
     "output_type": "execute_result"
    }
   ],
   "source": [
    "accuracy_score(y_test2, predicted_labels)"
   ]
  },
  {
   "cell_type": "code",
   "execution_count": 35,
   "metadata": {},
   "outputs": [
    {
     "name": "stdout",
     "output_type": "stream",
     "text": [
      "              precision    recall  f1-score   support\n",
      "\n",
      "           0       0.50      1.00      0.67       165\n",
      "           1       1.00      0.01      0.02       165\n",
      "\n",
      "    accuracy                           0.51       330\n",
      "   macro avg       0.75      0.51      0.35       330\n",
      "weighted avg       0.75      0.51      0.35       330\n",
      "\n"
     ]
    }
   ],
   "source": [
    "y_pred2 = predicted_labels\n",
    "print(classification_report(y_test2, y_pred2))"
   ]
  },
  {
   "cell_type": "code",
   "execution_count": 36,
   "metadata": {},
   "outputs": [
    {
     "data": {
      "text/plain": [
       "<matplotlib.axes._subplots.AxesSubplot at 0x1a21bb2710>"
      ]
     },
     "execution_count": 36,
     "metadata": {},
     "output_type": "execute_result"
    },
    {
     "data": {
      "image/png": "[encoded data removed]",
      "text/plain": [
       "<Figure size 720x576 with 2 Axes>"
      ]
     },
     "metadata": {},
     "output_type": "display_data"
    }
   ],
   "source": [
    "cf_test_matrix = confusion_matrix(y_test2, y_pred2)\n",
    "plt.figure(figsize=(10,8))\n",
    "sns.heatmap(cf_test_matrix, annot=True, fmt='d')"
   ]
  },
  {
   "cell_type": "markdown",
   "metadata": {},
   "source": [
    "<a id=\"5\"></a>\n",
    "## Modeling Interpretability and Explainability"
   ]
  },
  {
   "cell_type": "markdown",
   "metadata": {},
   "source": [
    "### Metric Evaluations\n",
    "\n",
    "Our critical evaluation metric is Precision because this is used when the predicted positive is crucial. In the case of emails if an important email is misclassified as spam crucial information will be lost and it may cause a serious problem. In this case false positives are more of a concern than the alternative where some spam makes it passed the filter. \n",
    "In our first model of Naive bayes our precision for spam was 1.0 so it was a perfect score while it was 0.94 for the correctly predicted emails. The confusion matrix for the Naive bayes model shows that no non-spam emails were misclassified as spam which means the model does well to prioritize emails over spam. Only 10 emails that were spam were wrongly classified as a regular email however this misclassification is not crucial for our purposes as no important information is being lost.\n",
    "\n",
    "For the Kmeans cluster model the critical metric which is the precision of the class 1 (spam) did very well as it had a perfect score of 1.00, meaning no email was misclassified. The cluster model did very poorly however in classifying spam correctly where approximately half the spam was wrongly identified as legitimate email. Although misclassifying spam is not critical, comparatively to the Naive Bayes model this does a much poorer job at filtering the spam out. This will become a much larger annoyance for clients as most of the spam will still make it through to their email. Clients would need to sort through more emails using this model due the increases in spam, this raises the risk of crucial emails being lost amongst the larger email volume."
   ]
  },
  {
   "cell_type": "markdown",
   "metadata": {},
   "source": [
    "<a id=\"6\"></a>\n",
    "## Case Conclusions"
   ]
  },
  {
   "cell_type": "markdown",
   "metadata": {},
   "source": [
    "In general the naive bayes classifier is better method for identification of email categories. In addition to not classifying any legitimate emails as spam, it also performed very well in correctly classifying spam emails. Only 10 spam emails were predicted inaccurately which gave a precision of 94%. A low amount of spam making it through the filter was deemed as a more acceptable loss than losing potentially crucial emails that were misclassified as spam.\n",
    "\n",
    "Moving forward improvements that can be made to the model would be incorporating more samples where possible and within the limits of the computer systems. Further identification and reduction in portions of the email text would also greatly improve the processing speed, which in turn would also allow more sampling to occur by decreasing the corpus size. Identifying more key features that distinguish emails from spam would also improve the model capabilities. Lastly it is also very important that the sample email database be continuously updated with new samples of both spam and non-spam as these tend to change over time, and  spam in particular tends to adapt to filters or use new techniques to appear more genuine."
   ]
  }
 ],
 "metadata": {
  "kernelspec": {
   "display_name": "Python 3",
   "language": "python",
   "name": "python3"
  },
  "language_info": {
   "codemirror_mode": {
    "name": "ipython",
    "version": 3
   },
   "file_extension": ".py",
   "mimetype": "text/x-python",
   "name": "python",
   "nbconvert_exporter": "python",
   "pygments_lexer": "ipython3",
   "version": "3.7.4"
  }
 },
 "nbformat": 4,
 "nbformat_minor": 2
}
