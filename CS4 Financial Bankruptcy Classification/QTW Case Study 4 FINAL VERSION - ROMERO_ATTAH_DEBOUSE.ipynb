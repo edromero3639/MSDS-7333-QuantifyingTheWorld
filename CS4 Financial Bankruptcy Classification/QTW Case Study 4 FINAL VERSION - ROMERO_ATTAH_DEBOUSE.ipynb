{
 "cells": [
  {
   "cell_type": "markdown",
   "metadata": {},
   "source": [
    "# Quantifying the World: Case Study 4\n",
    "Eric Romero, Patricia Attah, Antonio Debouse"
   ]
  },
  {
   "cell_type": "markdown",
   "metadata": {},
   "source": [
    "### Table of Contents:\n",
    "\n",
    "   * <a href=\"#1\"> Business Understanding </a>\n",
    "   * <a href=\"#2\"> Data Evaluation/Engineering </a>\n",
    "   * <a href=\"#3\"> Modeling Preparations </a>\n",
    "   * <a href=\"#4\"> Model Building and Evaluation </a>\n",
    "   * <a href=\"#5\"> Model Interpretability and Explainability </a>\n",
    "   * <a href=\"#6\"> Case Conclusions </a>"
   ]
  },
  {
   "cell_type": "markdown",
   "metadata": {},
   "source": [
    "<a id=\"1\"></a>\n",
    "## Business Understanding\n",
    "We, the data scientists, were assigned the objective by the Finance Department to create the best model with the capability to predict if a company will file for bankruptcy in the future. Holding an investment position in a company that files for bankruptcy can lead to major monetary losses, and the Finance Department would like to avoid this negative scenario by selling investment positions if a company will likely to file for bankruptcy. The Finance Department specifically stated they do not care about predicting the year a company will go bankrupt, just if the company will file or not; we will not be using time as a variable.  \n",
    "\n",
    "### Task Summary:\n",
    "* Use Random Forest and XGBoost to accurately predict bankruptcy. Tune your models for maximum accuracy, but include precision and recall as summary metrics.\n",
    "\n",
    " "
   ]
  },
  {
   "cell_type": "markdown",
   "metadata": {},
   "source": [
    "<a id=\"2\"></a>\n",
    "## Data Evaluation / Engineering\n",
    "* We were given 5 datasets, and each have a total of 65 variables(columns). Each dataset had a different number of observations with the lowest amount of observations(rows) being 5910 and 10503 as the highest; total number of combined observations equals 43,405.<br>"
   ]
  },
  {
   "cell_type": "code",
   "execution_count": 2,
   "metadata": {},
   "outputs": [
    {
     "data": {
      "text/plain": [
       "'C:\\\\Users\\\\Eric\\\\Documents\\\\GitHub\\\\QuantifyingTheWorld\\\\CS4'"
      ]
     },
     "execution_count": 2,
     "metadata": {},
     "output_type": "execute_result"
    }
   ],
   "source": [
    "from scipy.io import arff\n",
    "import pandas as pd\n",
    "import numpy as np\n",
    "import os\n",
    "from sklearn.metrics import classification_report\n",
    "from statsmodels.stats.outliers_influence import variance_inflation_factor\n",
    "from sklearn.metrics import average_precision_score\n",
    "\n",
    "from sklearn.metrics import precision_recall_curve\n",
    "from sklearn.metrics import plot_precision_recall_curve, plot_roc_curve, roc_curve,roc_auc_score\n",
    "import matplotlib.pyplot as plt\n",
    "from xgboost import XGBClassifier\n",
    "from sklearn.model_selection import GridSearchCV\n",
    "import seaborn as sns\n",
    "import warnings\n",
    "\n",
    "\n",
    "warnings.filterwarnings('ignore')\n",
    "os.getcwd()"
   ]
  },
  {
   "cell_type": "code",
   "execution_count": 3,
   "metadata": {},
   "outputs": [
    {
     "data": {
      "text/plain": [
       "['1year.arff', '2year.arff', '3year.arff', '4year.arff', '5year.arff']"
      ]
     },
     "execution_count": 3,
     "metadata": {},
     "output_type": "execute_result"
    }
   ],
   "source": [
    "from os import listdir\n",
    "from os.path import isfile, join\n",
    "dir_files = [f for f in os.listdir(os.getcwd()+'/FinanceData') if os.path.isfile(join(os.getcwd()+'/FinanceData', f))]\n",
    "\n",
    "dir_files"
   ]
  },
  {
   "cell_type": "code",
   "execution_count": 4,
   "metadata": {},
   "outputs": [
    {
     "name": "stdout",
     "output_type": "stream",
     "text": [
      "(7027, 65)\n",
      "(10173, 65)\n",
      "(10503, 65)\n",
      "(9792, 65)\n",
      "(5910, 65)\n",
      "43405\n"
     ]
    }
   ],
   "source": [
    "data_dict = {}\n",
    "full_df = pd.DataFrame()\n",
    "\n",
    "records = 0\n",
    "\n",
    "for f in dir_files:\n",
    "    temp_data = arff.loadarff(os.getcwd()+'/FinanceData/'+f)\n",
    "    temp_df = pd.DataFrame(temp_data[0])\n",
    "    print(temp_df.shape)\n",
    "    data_dict.update({f:temp_df})\n",
    "    full_df = pd.concat([full_df, temp_df])\n",
    "    records += temp_df.shape[0]\n",
    "    \n",
    "print(records)"
   ]
  },
  {
   "cell_type": "code",
   "execution_count": 54,
   "metadata": {},
   "outputs": [
    {
     "data": {
      "text/plain": [
       "(43405, 65)"
      ]
     },
     "execution_count": 54,
     "metadata": {},
     "output_type": "execute_result"
    }
   ],
   "source": [
    "full_df.shape\n",
    "#df_corr = full_df"
   ]
  },
  {
   "cell_type": "code",
   "execution_count": 5,
   "metadata": {},
   "outputs": [
    {
     "data": {
      "text/html": [
       "<div>\n",
       "<style scoped>\n",
       "    .dataframe tbody tr th:only-of-type {\n",
       "        vertical-align: middle;\n",
       "    }\n",
       "\n",
       "    .dataframe tbody tr th {\n",
       "        vertical-align: top;\n",
       "    }\n",
       "\n",
       "    .dataframe thead th {\n",
       "        text-align: right;\n",
       "    }\n",
       "</style>\n",
       "<table border=\"1\" class=\"dataframe\">\n",
       "  <thead>\n",
       "    <tr style=\"text-align: right;\">\n",
       "      <th></th>\n",
       "      <th>Attr1</th>\n",
       "      <th>Attr2</th>\n",
       "      <th>Attr3</th>\n",
       "      <th>Attr4</th>\n",
       "      <th>Attr5</th>\n",
       "      <th>Attr6</th>\n",
       "      <th>Attr7</th>\n",
       "      <th>Attr8</th>\n",
       "      <th>Attr9</th>\n",
       "      <th>Attr10</th>\n",
       "      <th>...</th>\n",
       "      <th>Attr56</th>\n",
       "      <th>Attr57</th>\n",
       "      <th>Attr58</th>\n",
       "      <th>Attr59</th>\n",
       "      <th>Attr60</th>\n",
       "      <th>Attr61</th>\n",
       "      <th>Attr62</th>\n",
       "      <th>Attr63</th>\n",
       "      <th>Attr64</th>\n",
       "      <th>class</th>\n",
       "    </tr>\n",
       "  </thead>\n",
       "  <tbody>\n",
       "    <tr>\n",
       "      <th>0</th>\n",
       "      <td>0.202350</td>\n",
       "      <td>0.46500</td>\n",
       "      <td>0.240380</td>\n",
       "      <td>1.5171</td>\n",
       "      <td>-14.547</td>\n",
       "      <td>0.510690</td>\n",
       "      <td>0.25366</td>\n",
       "      <td>0.91816</td>\n",
       "      <td>1.15190</td>\n",
       "      <td>0.42695</td>\n",
       "      <td>...</td>\n",
       "      <td>0.13184</td>\n",
       "      <td>0.473950</td>\n",
       "      <td>0.86816</td>\n",
       "      <td>0.00024</td>\n",
       "      <td>8.5487</td>\n",
       "      <td>5.16550</td>\n",
       "      <td>107.740</td>\n",
       "      <td>3.38790</td>\n",
       "      <td>5.3440</td>\n",
       "      <td>b'0'</td>\n",
       "    </tr>\n",
       "    <tr>\n",
       "      <th>1</th>\n",
       "      <td>0.030073</td>\n",
       "      <td>0.59563</td>\n",
       "      <td>0.186680</td>\n",
       "      <td>1.3382</td>\n",
       "      <td>-37.859</td>\n",
       "      <td>-0.000319</td>\n",
       "      <td>0.04167</td>\n",
       "      <td>0.67890</td>\n",
       "      <td>0.32356</td>\n",
       "      <td>0.40437</td>\n",
       "      <td>...</td>\n",
       "      <td>0.12146</td>\n",
       "      <td>0.074369</td>\n",
       "      <td>0.87235</td>\n",
       "      <td>0.00000</td>\n",
       "      <td>1.5264</td>\n",
       "      <td>0.63305</td>\n",
       "      <td>622.660</td>\n",
       "      <td>0.58619</td>\n",
       "      <td>1.2381</td>\n",
       "      <td>b'0'</td>\n",
       "    </tr>\n",
       "    <tr>\n",
       "      <th>2</th>\n",
       "      <td>0.257860</td>\n",
       "      <td>0.29949</td>\n",
       "      <td>0.665190</td>\n",
       "      <td>3.2211</td>\n",
       "      <td>71.799</td>\n",
       "      <td>0.000000</td>\n",
       "      <td>0.31877</td>\n",
       "      <td>2.33200</td>\n",
       "      <td>1.67620</td>\n",
       "      <td>0.69841</td>\n",
       "      <td>...</td>\n",
       "      <td>0.16499</td>\n",
       "      <td>0.369210</td>\n",
       "      <td>0.81614</td>\n",
       "      <td>0.00000</td>\n",
       "      <td>4.3325</td>\n",
       "      <td>3.19850</td>\n",
       "      <td>65.215</td>\n",
       "      <td>5.59690</td>\n",
       "      <td>47.4660</td>\n",
       "      <td>b'0'</td>\n",
       "    </tr>\n",
       "    <tr>\n",
       "      <th>3</th>\n",
       "      <td>0.227160</td>\n",
       "      <td>0.67850</td>\n",
       "      <td>0.042784</td>\n",
       "      <td>1.0828</td>\n",
       "      <td>-88.212</td>\n",
       "      <td>0.000000</td>\n",
       "      <td>0.28505</td>\n",
       "      <td>0.47384</td>\n",
       "      <td>1.32410</td>\n",
       "      <td>0.32150</td>\n",
       "      <td>...</td>\n",
       "      <td>0.29358</td>\n",
       "      <td>0.706570</td>\n",
       "      <td>0.78617</td>\n",
       "      <td>0.48456</td>\n",
       "      <td>5.2309</td>\n",
       "      <td>5.06750</td>\n",
       "      <td>142.460</td>\n",
       "      <td>2.56210</td>\n",
       "      <td>3.0066</td>\n",
       "      <td>b'0'</td>\n",
       "    </tr>\n",
       "    <tr>\n",
       "      <th>4</th>\n",
       "      <td>0.085443</td>\n",
       "      <td>0.38039</td>\n",
       "      <td>0.359230</td>\n",
       "      <td>1.9444</td>\n",
       "      <td>21.731</td>\n",
       "      <td>0.187900</td>\n",
       "      <td>0.10823</td>\n",
       "      <td>1.37140</td>\n",
       "      <td>1.11260</td>\n",
       "      <td>0.52167</td>\n",
       "      <td>...</td>\n",
       "      <td>0.10124</td>\n",
       "      <td>0.163790</td>\n",
       "      <td>0.89876</td>\n",
       "      <td>0.00000</td>\n",
       "      <td>5.7035</td>\n",
       "      <td>4.00200</td>\n",
       "      <td>89.058</td>\n",
       "      <td>4.09840</td>\n",
       "      <td>5.9874</td>\n",
       "      <td>b'0'</td>\n",
       "    </tr>\n",
       "  </tbody>\n",
       "</table>\n",
       "<p>5 rows × 65 columns</p>\n",
       "</div>"
      ],
      "text/plain": [
       "      Attr1    Attr2     Attr3   Attr4   Attr5     Attr6    Attr7    Attr8  \\\n",
       "0  0.202350  0.46500  0.240380  1.5171 -14.547  0.510690  0.25366  0.91816   \n",
       "1  0.030073  0.59563  0.186680  1.3382 -37.859 -0.000319  0.04167  0.67890   \n",
       "2  0.257860  0.29949  0.665190  3.2211  71.799  0.000000  0.31877  2.33200   \n",
       "3  0.227160  0.67850  0.042784  1.0828 -88.212  0.000000  0.28505  0.47384   \n",
       "4  0.085443  0.38039  0.359230  1.9444  21.731  0.187900  0.10823  1.37140   \n",
       "\n",
       "     Attr9   Attr10  ...   Attr56    Attr57   Attr58   Attr59  Attr60  \\\n",
       "0  1.15190  0.42695  ...  0.13184  0.473950  0.86816  0.00024  8.5487   \n",
       "1  0.32356  0.40437  ...  0.12146  0.074369  0.87235  0.00000  1.5264   \n",
       "2  1.67620  0.69841  ...  0.16499  0.369210  0.81614  0.00000  4.3325   \n",
       "3  1.32410  0.32150  ...  0.29358  0.706570  0.78617  0.48456  5.2309   \n",
       "4  1.11260  0.52167  ...  0.10124  0.163790  0.89876  0.00000  5.7035   \n",
       "\n",
       "    Attr61   Attr62   Attr63   Attr64  class  \n",
       "0  5.16550  107.740  3.38790   5.3440   b'0'  \n",
       "1  0.63305  622.660  0.58619   1.2381   b'0'  \n",
       "2  3.19850   65.215  5.59690  47.4660   b'0'  \n",
       "3  5.06750  142.460  2.56210   3.0066   b'0'  \n",
       "4  4.00200   89.058  4.09840   5.9874   b'0'  \n",
       "\n",
       "[5 rows x 65 columns]"
      ]
     },
     "execution_count": 5,
     "metadata": {},
     "output_type": "execute_result"
    }
   ],
   "source": [
    "full_df.head(5)"
   ]
  },
  {
   "cell_type": "code",
   "execution_count": 9,
   "metadata": {
    "scrolled": true
   },
   "outputs": [
    {
     "name": "stdout",
     "output_type": "stream",
     "text": [
      "Attr1 is formatted as a(n) float64\n",
      "Attr2 is formatted as a(n) float64\n",
      "Attr3 is formatted as a(n) float64\n",
      "Attr4 is formatted as a(n) float64\n",
      "Attr5 is formatted as a(n) float64\n",
      "Attr6 is formatted as a(n) float64\n",
      "Attr7 is formatted as a(n) float64\n",
      "Attr8 is formatted as a(n) float64\n",
      "Attr9 is formatted as a(n) float64\n",
      "Attr10 is formatted as a(n) float64\n",
      "Attr11 is formatted as a(n) float64\n",
      "Attr12 is formatted as a(n) float64\n",
      "Attr13 is formatted as a(n) float64\n",
      "Attr14 is formatted as a(n) float64\n",
      "Attr15 is formatted as a(n) float64\n",
      "Attr16 is formatted as a(n) float64\n",
      "Attr17 is formatted as a(n) float64\n",
      "Attr18 is formatted as a(n) float64\n",
      "Attr19 is formatted as a(n) float64\n",
      "Attr20 is formatted as a(n) float64\n",
      "Attr21 is formatted as a(n) float64\n",
      "Attr22 is formatted as a(n) float64\n",
      "Attr23 is formatted as a(n) float64\n",
      "Attr24 is formatted as a(n) float64\n",
      "Attr25 is formatted as a(n) float64\n",
      "Attr26 is formatted as a(n) float64\n",
      "Attr27 is formatted as a(n) float64\n",
      "Attr28 is formatted as a(n) float64\n",
      "Attr29 is formatted as a(n) float64\n",
      "Attr30 is formatted as a(n) float64\n",
      "Attr31 is formatted as a(n) float64\n",
      "Attr32 is formatted as a(n) float64\n",
      "Attr33 is formatted as a(n) float64\n",
      "Attr34 is formatted as a(n) float64\n",
      "Attr35 is formatted as a(n) float64\n",
      "Attr36 is formatted as a(n) float64\n",
      "Attr37 is formatted as a(n) float64\n",
      "Attr38 is formatted as a(n) float64\n",
      "Attr39 is formatted as a(n) float64\n",
      "Attr40 is formatted as a(n) float64\n",
      "Attr41 is formatted as a(n) float64\n",
      "Attr42 is formatted as a(n) float64\n",
      "Attr43 is formatted as a(n) float64\n",
      "Attr44 is formatted as a(n) float64\n",
      "Attr45 is formatted as a(n) float64\n",
      "Attr46 is formatted as a(n) float64\n",
      "Attr47 is formatted as a(n) float64\n",
      "Attr48 is formatted as a(n) float64\n",
      "Attr49 is formatted as a(n) float64\n",
      "Attr50 is formatted as a(n) float64\n",
      "Attr51 is formatted as a(n) float64\n",
      "Attr52 is formatted as a(n) float64\n",
      "Attr53 is formatted as a(n) float64\n",
      "Attr54 is formatted as a(n) float64\n",
      "Attr55 is formatted as a(n) float64\n",
      "Attr56 is formatted as a(n) float64\n",
      "Attr57 is formatted as a(n) float64\n",
      "Attr58 is formatted as a(n) float64\n",
      "Attr59 is formatted as a(n) float64\n",
      "Attr60 is formatted as a(n) float64\n",
      "Attr61 is formatted as a(n) float64\n",
      "Attr62 is formatted as a(n) float64\n",
      "Attr63 is formatted as a(n) float64\n",
      "Attr64 is formatted as a(n) float64\n",
      "class is formatted as a(n) object\n"
     ]
    }
   ],
   "source": [
    "for c in full_df.columns:\n",
    "    print('{} is formatted as a(n) {}'.format(c, full_df[c].dtype))"
   ]
  },
  {
   "cell_type": "code",
   "execution_count": 6,
   "metadata": {},
   "outputs": [
    {
     "data": {
      "text/html": [
       "<div>\n",
       "<style scoped>\n",
       "    .dataframe tbody tr th:only-of-type {\n",
       "        vertical-align: middle;\n",
       "    }\n",
       "\n",
       "    .dataframe tbody tr th {\n",
       "        vertical-align: top;\n",
       "    }\n",
       "\n",
       "    .dataframe thead th {\n",
       "        text-align: right;\n",
       "    }\n",
       "</style>\n",
       "<table border=\"1\" class=\"dataframe\">\n",
       "  <thead>\n",
       "    <tr style=\"text-align: right;\">\n",
       "      <th></th>\n",
       "      <th>Attr1</th>\n",
       "      <th>Attr2</th>\n",
       "      <th>Attr3</th>\n",
       "      <th>Attr4</th>\n",
       "      <th>Attr5</th>\n",
       "      <th>Attr6</th>\n",
       "      <th>Attr7</th>\n",
       "      <th>Attr8</th>\n",
       "      <th>Attr9</th>\n",
       "      <th>Attr10</th>\n",
       "      <th>...</th>\n",
       "      <th>Attr55</th>\n",
       "      <th>Attr56</th>\n",
       "      <th>Attr57</th>\n",
       "      <th>Attr58</th>\n",
       "      <th>Attr59</th>\n",
       "      <th>Attr60</th>\n",
       "      <th>Attr61</th>\n",
       "      <th>Attr62</th>\n",
       "      <th>Attr63</th>\n",
       "      <th>Attr64</th>\n",
       "    </tr>\n",
       "  </thead>\n",
       "  <tbody>\n",
       "    <tr>\n",
       "      <th>count</th>\n",
       "      <td>43397.000000</td>\n",
       "      <td>43397.000000</td>\n",
       "      <td>43397.000000</td>\n",
       "      <td>43271.000000</td>\n",
       "      <td>4.331600e+04</td>\n",
       "      <td>43397.000000</td>\n",
       "      <td>43397.000000</td>\n",
       "      <td>43311.000000</td>\n",
       "      <td>43396.000000</td>\n",
       "      <td>43397.000000</td>\n",
       "      <td>...</td>\n",
       "      <td>4.340400e+04</td>\n",
       "      <td>4.327800e+04</td>\n",
       "      <td>43398.000000</td>\n",
       "      <td>4.332100e+04</td>\n",
       "      <td>43398.000000</td>\n",
       "      <td>4.125300e+04</td>\n",
       "      <td>43303.000000</td>\n",
       "      <td>4.327800e+04</td>\n",
       "      <td>43271.000000</td>\n",
       "      <td>42593.000000</td>\n",
       "    </tr>\n",
       "    <tr>\n",
       "      <th>mean</th>\n",
       "      <td>0.035160</td>\n",
       "      <td>0.590212</td>\n",
       "      <td>0.114431</td>\n",
       "      <td>6.314702</td>\n",
       "      <td>-3.853466e+02</td>\n",
       "      <td>-0.056107</td>\n",
       "      <td>0.093478</td>\n",
       "      <td>12.640779</td>\n",
       "      <td>2.652166</td>\n",
       "      <td>0.626868</td>\n",
       "      <td>...</td>\n",
       "      <td>7.672188e+03</td>\n",
       "      <td>-2.621959e+01</td>\n",
       "      <td>-0.010510</td>\n",
       "      <td>3.002644e+01</td>\n",
       "      <td>1.333288</td>\n",
       "      <td>4.480858e+02</td>\n",
       "      <td>17.033202</td>\n",
       "      <td>1.502328e+03</td>\n",
       "      <td>9.343074</td>\n",
       "      <td>72.788592</td>\n",
       "    </tr>\n",
       "    <tr>\n",
       "      <th>std</th>\n",
       "      <td>2.994109</td>\n",
       "      <td>5.842748</td>\n",
       "      <td>5.439429</td>\n",
       "      <td>295.434425</td>\n",
       "      <td>6.124303e+04</td>\n",
       "      <td>7.201326</td>\n",
       "      <td>5.713075</td>\n",
       "      <td>505.894281</td>\n",
       "      <td>62.932732</td>\n",
       "      <td>14.670597</td>\n",
       "      <td>...</td>\n",
       "      <td>7.005310e+04</td>\n",
       "      <td>5.327862e+03</td>\n",
       "      <td>13.674072</td>\n",
       "      <td>5.334454e+03</td>\n",
       "      <td>122.104445</td>\n",
       "      <td>3.234560e+04</td>\n",
       "      <td>553.049406</td>\n",
       "      <td>1.392667e+05</td>\n",
       "      <td>124.177354</td>\n",
       "      <td>2369.339482</td>\n",
       "    </tr>\n",
       "    <tr>\n",
       "      <th>min</th>\n",
       "      <td>-463.890000</td>\n",
       "      <td>-430.870000</td>\n",
       "      <td>-479.960000</td>\n",
       "      <td>-0.403110</td>\n",
       "      <td>-1.190300e+07</td>\n",
       "      <td>-508.410000</td>\n",
       "      <td>-517.480000</td>\n",
       "      <td>-141.410000</td>\n",
       "      <td>-3.496000</td>\n",
       "      <td>-479.910000</td>\n",
       "      <td>...</td>\n",
       "      <td>-1.805200e+06</td>\n",
       "      <td>-1.108300e+06</td>\n",
       "      <td>-1667.300000</td>\n",
       "      <td>-1.986900e+02</td>\n",
       "      <td>-327.970000</td>\n",
       "      <td>-1.244000e+01</td>\n",
       "      <td>-12.656000</td>\n",
       "      <td>-2.336500e+06</td>\n",
       "      <td>-1.543200</td>\n",
       "      <td>-10677.000000</td>\n",
       "    </tr>\n",
       "    <tr>\n",
       "      <th>25%</th>\n",
       "      <td>0.003429</td>\n",
       "      <td>0.268980</td>\n",
       "      <td>0.021521</td>\n",
       "      <td>1.049500</td>\n",
       "      <td>-4.908000e+01</td>\n",
       "      <td>0.000000</td>\n",
       "      <td>0.005776</td>\n",
       "      <td>0.430275</td>\n",
       "      <td>1.018500</td>\n",
       "      <td>0.295470</td>\n",
       "      <td>...</td>\n",
       "      <td>2.755425e+01</td>\n",
       "      <td>9.348500e-03</td>\n",
       "      <td>0.014649</td>\n",
       "      <td>8.753200e-01</td>\n",
       "      <td>0.000000</td>\n",
       "      <td>5.545500e+00</td>\n",
       "      <td>4.510150</td>\n",
       "      <td>4.214400e+01</td>\n",
       "      <td>3.097650</td>\n",
       "      <td>2.176800</td>\n",
       "    </tr>\n",
       "    <tr>\n",
       "      <th>50%</th>\n",
       "      <td>0.049660</td>\n",
       "      <td>0.471900</td>\n",
       "      <td>0.196610</td>\n",
       "      <td>1.569800</td>\n",
       "      <td>-1.034500e+00</td>\n",
       "      <td>0.000000</td>\n",
       "      <td>0.059634</td>\n",
       "      <td>1.070400</td>\n",
       "      <td>1.195350</td>\n",
       "      <td>0.505970</td>\n",
       "      <td>...</td>\n",
       "      <td>1.088350e+03</td>\n",
       "      <td>5.294300e-02</td>\n",
       "      <td>0.119670</td>\n",
       "      <td>9.509600e-01</td>\n",
       "      <td>0.006366</td>\n",
       "      <td>9.791700e+00</td>\n",
       "      <td>6.636300</td>\n",
       "      <td>7.132600e+01</td>\n",
       "      <td>5.087600</td>\n",
       "      <td>4.282500</td>\n",
       "    </tr>\n",
       "    <tr>\n",
       "      <th>75%</th>\n",
       "      <td>0.129580</td>\n",
       "      <td>0.688320</td>\n",
       "      <td>0.403390</td>\n",
       "      <td>2.787450</td>\n",
       "      <td>5.063425e+01</td>\n",
       "      <td>0.089446</td>\n",
       "      <td>0.150880</td>\n",
       "      <td>2.615700</td>\n",
       "      <td>2.062500</td>\n",
       "      <td>0.709100</td>\n",
       "      <td>...</td>\n",
       "      <td>4.993325e+03</td>\n",
       "      <td>1.290975e-01</td>\n",
       "      <td>0.284605</td>\n",
       "      <td>9.926400e-01</td>\n",
       "      <td>0.236052</td>\n",
       "      <td>2.018100e+01</td>\n",
       "      <td>10.394500</td>\n",
       "      <td>1.172200e+02</td>\n",
       "      <td>8.598850</td>\n",
       "      <td>9.776200</td>\n",
       "    </tr>\n",
       "    <tr>\n",
       "      <th>max</th>\n",
       "      <td>94.280000</td>\n",
       "      <td>480.960000</td>\n",
       "      <td>28.336000</td>\n",
       "      <td>53433.000000</td>\n",
       "      <td>1.250100e+06</td>\n",
       "      <td>543.250000</td>\n",
       "      <td>649.230000</td>\n",
       "      <td>53432.000000</td>\n",
       "      <td>9742.300000</td>\n",
       "      <td>1099.500000</td>\n",
       "      <td>...</td>\n",
       "      <td>6.123700e+06</td>\n",
       "      <td>2.931500e+02</td>\n",
       "      <td>552.640000</td>\n",
       "      <td>1.108300e+06</td>\n",
       "      <td>23853.000000</td>\n",
       "      <td>4.818700e+06</td>\n",
       "      <td>108000.000000</td>\n",
       "      <td>2.501600e+07</td>\n",
       "      <td>23454.000000</td>\n",
       "      <td>294770.000000</td>\n",
       "    </tr>\n",
       "  </tbody>\n",
       "</table>\n",
       "<p>8 rows × 64 columns</p>\n",
       "</div>"
      ],
      "text/plain": [
       "              Attr1         Attr2         Attr3         Attr4         Attr5  \\\n",
       "count  43397.000000  43397.000000  43397.000000  43271.000000  4.331600e+04   \n",
       "mean       0.035160      0.590212      0.114431      6.314702 -3.853466e+02   \n",
       "std        2.994109      5.842748      5.439429    295.434425  6.124303e+04   \n",
       "min     -463.890000   -430.870000   -479.960000     -0.403110 -1.190300e+07   \n",
       "25%        0.003429      0.268980      0.021521      1.049500 -4.908000e+01   \n",
       "50%        0.049660      0.471900      0.196610      1.569800 -1.034500e+00   \n",
       "75%        0.129580      0.688320      0.403390      2.787450  5.063425e+01   \n",
       "max       94.280000    480.960000     28.336000  53433.000000  1.250100e+06   \n",
       "\n",
       "              Attr6         Attr7         Attr8         Attr9        Attr10  \\\n",
       "count  43397.000000  43397.000000  43311.000000  43396.000000  43397.000000   \n",
       "mean      -0.056107      0.093478     12.640779      2.652166      0.626868   \n",
       "std        7.201326      5.713075    505.894281     62.932732     14.670597   \n",
       "min     -508.410000   -517.480000   -141.410000     -3.496000   -479.910000   \n",
       "25%        0.000000      0.005776      0.430275      1.018500      0.295470   \n",
       "50%        0.000000      0.059634      1.070400      1.195350      0.505970   \n",
       "75%        0.089446      0.150880      2.615700      2.062500      0.709100   \n",
       "max      543.250000    649.230000  53432.000000   9742.300000   1099.500000   \n",
       "\n",
       "       ...        Attr55        Attr56        Attr57        Attr58  \\\n",
       "count  ...  4.340400e+04  4.327800e+04  43398.000000  4.332100e+04   \n",
       "mean   ...  7.672188e+03 -2.621959e+01     -0.010510  3.002644e+01   \n",
       "std    ...  7.005310e+04  5.327862e+03     13.674072  5.334454e+03   \n",
       "min    ... -1.805200e+06 -1.108300e+06  -1667.300000 -1.986900e+02   \n",
       "25%    ...  2.755425e+01  9.348500e-03      0.014649  8.753200e-01   \n",
       "50%    ...  1.088350e+03  5.294300e-02      0.119670  9.509600e-01   \n",
       "75%    ...  4.993325e+03  1.290975e-01      0.284605  9.926400e-01   \n",
       "max    ...  6.123700e+06  2.931500e+02    552.640000  1.108300e+06   \n",
       "\n",
       "             Attr59        Attr60         Attr61        Attr62        Attr63  \\\n",
       "count  43398.000000  4.125300e+04   43303.000000  4.327800e+04  43271.000000   \n",
       "mean       1.333288  4.480858e+02      17.033202  1.502328e+03      9.343074   \n",
       "std      122.104445  3.234560e+04     553.049406  1.392667e+05    124.177354   \n",
       "min     -327.970000 -1.244000e+01     -12.656000 -2.336500e+06     -1.543200   \n",
       "25%        0.000000  5.545500e+00       4.510150  4.214400e+01      3.097650   \n",
       "50%        0.006366  9.791700e+00       6.636300  7.132600e+01      5.087600   \n",
       "75%        0.236052  2.018100e+01      10.394500  1.172200e+02      8.598850   \n",
       "max    23853.000000  4.818700e+06  108000.000000  2.501600e+07  23454.000000   \n",
       "\n",
       "              Attr64  \n",
       "count   42593.000000  \n",
       "mean       72.788592  \n",
       "std      2369.339482  \n",
       "min    -10677.000000  \n",
       "25%         2.176800  \n",
       "50%         4.282500  \n",
       "75%         9.776200  \n",
       "max    294770.000000  \n",
       "\n",
       "[8 rows x 64 columns]"
      ]
     },
     "execution_count": 6,
     "metadata": {},
     "output_type": "execute_result"
    }
   ],
   "source": [
    "full_df.describe()"
   ]
  },
  {
   "cell_type": "markdown",
   "metadata": {},
   "source": [
    "* Fortunately, all the observations are in a numberic form. However, analyzing the summary statistics graph reveals some large variations in mean and max values between the different variables with some very large standard deviations.<br>"
   ]
  },
  {
   "cell_type": "code",
   "execution_count": 5,
   "metadata": {},
   "outputs": [
    {
     "data": {
      "text/plain": [
       "(65, 2)"
      ]
     },
     "execution_count": 5,
     "metadata": {},
     "output_type": "execute_result"
    }
   ],
   "source": [
    "from IPython.core.interactiveshell import InteractiveShell\n",
    "InteractiveShell.ast_node_interactivity = \"all\"\n",
    "\n",
    "null = pd.DataFrame(full_df.isnull().sum())\n",
    "null.reset_index(inplace=True)\n",
    "null.shape"
   ]
  },
  {
   "cell_type": "code",
   "execution_count": 53,
   "metadata": {},
   "outputs": [
    {
     "data": {
      "text/plain": [
       "(array([0. , 0.2, 0.4, 0.6, 0.8, 1. ]),\n",
       " [Text(0, 0, ''),\n",
       "  Text(0, 0, ''),\n",
       "  Text(0, 0, ''),\n",
       "  Text(0, 0, ''),\n",
       "  Text(0, 0, ''),\n",
       "  Text(0, 0, '')])"
      ]
     },
     "execution_count": 53,
     "metadata": {},
     "output_type": "execute_result"
    },
    {
     "data": {
      "text/plain": [
       "<BarContainer object of 65 artists>"
      ]
     },
     "execution_count": 53,
     "metadata": {},
     "output_type": "execute_result"
    },
    {
     "data": {
      "image/png": "[encoded data removed]",
      "text/plain": [
       "<Figure size 1332x756 with 1 Axes>"
      ]
     },
     "metadata": {},
     "output_type": "display_data"
    }
   ],
   "source": [
    "#Missing values plot\n",
    "fig = plt.gcf()\n",
    "fig.set_size_inches(18.5, 10.5)\n",
    "plt.xticks(rotation=90)\n",
    "plt.bar(null['index'], null[0], color ='maroon',width = 0.4)"
   ]
  },
  {
   "cell_type": "markdown",
   "metadata": {},
   "source": [
    "* Several of the variable columns had some missing data, which we addressed by using a mean to impute the missing data.we see the attributes with the most missing values is Attr 37 with about 18000 and next to that is Attr 21 with 6000 missing values."
   ]
  },
  {
   "cell_type": "code",
   "execution_count": 10,
   "metadata": {},
   "outputs": [
    {
     "data": {
      "text/plain": [
       "array([b'0', b'1'], dtype=object)"
      ]
     },
     "execution_count": 10,
     "metadata": {},
     "output_type": "execute_result"
    }
   ],
   "source": [
    "full_df['class'].unique()"
   ]
  },
  {
   "cell_type": "code",
   "execution_count": 11,
   "metadata": {},
   "outputs": [
    {
     "data": {
      "text/plain": [
       "b'0'    41314\n",
       "b'1'     2091\n",
       "Name: class, dtype: int64"
      ]
     },
     "execution_count": 11,
     "metadata": {},
     "output_type": "execute_result"
    }
   ],
   "source": [
    "full_df['class'].value_counts(normalize=False)"
   ]
  },
  {
   "cell_type": "code",
   "execution_count": 12,
   "metadata": {},
   "outputs": [
    {
     "data": {
      "text/plain": [
       "b'0'    0.951826\n",
       "b'1'    0.048174\n",
       "Name: class, dtype: float64"
      ]
     },
     "execution_count": 12,
     "metadata": {},
     "output_type": "execute_result"
    }
   ],
   "source": [
    "full_df['class'].value_counts(normalize=True)"
   ]
  },
  {
   "cell_type": "code",
   "execution_count": 6,
   "metadata": {},
   "outputs": [],
   "source": [
    "classes = []\n",
    "\n",
    "for index, row in full_df.iterrows():\n",
    "    class_val = row['class']\n",
    "    if class_val not in classes:\n",
    "        classes.append(class_val)"
   ]
  },
  {
   "cell_type": "code",
   "execution_count": 7,
   "metadata": {},
   "outputs": [
    {
     "data": {
      "text/plain": [
       "[b'0', b'1']"
      ]
     },
     "execution_count": 7,
     "metadata": {},
     "output_type": "execute_result"
    }
   ],
   "source": [
    "classes"
   ]
  },
  {
   "cell_type": "code",
   "execution_count": 8,
   "metadata": {},
   "outputs": [
    {
     "data": {
      "text/plain": [
       "{b'0': '0', b'1': '1'}"
      ]
     },
     "execution_count": 8,
     "metadata": {},
     "output_type": "execute_result"
    }
   ],
   "source": [
    "class_dict = {}\n",
    "\n",
    "for index, i in enumerate(classes):\n",
    "    class_dict.update({i:str(index)})\n",
    "    \n",
    "class_dict"
   ]
  },
  {
   "cell_type": "code",
   "execution_count": 9,
   "metadata": {},
   "outputs": [],
   "source": [
    "full_df['class'] = full_df['class'].map(class_dict)"
   ]
  },
  {
   "cell_type": "markdown",
   "metadata": {},
   "source": [
    "* There is also a large imbalance within the \"Class\" column with \"0\" accounting for ~95% and \"1\" accounting for only about 5%.<br>"
   ]
  },
  {
   "cell_type": "code",
   "execution_count": 67,
   "metadata": {},
   "outputs": [],
   "source": [
    "from yellowbrick.model_selection import FeatureImportances\n",
    "from sklearn.model_selection import train_test_split\n",
    "\n",
    "X = full_df.loc[:, full_df.columns != 'class']\n",
    "y = full_df['class']\n",
    "\n",
    "#splitting data into train/test set\n",
    "X_train, X_test, y_train, y_test = train_test_split(\n",
    "    X, y, test_size=0.33, random_state=42)"
   ]
  },
  {
   "cell_type": "markdown",
   "metadata": {},
   "source": [
    "#### Important Features"
   ]
  },
  {
   "cell_type": "code",
   "execution_count": 22,
   "metadata": {},
   "outputs": [],
   "source": [
    "clf_gb = GradientBoostingClassifier(learning_rate= 1, max_depth= 2, min_samples_split= 2, \n",
    "                                    n_estimators= 50, random_state=1234).fit(X_train, y_train)"
   ]
  },
  {
   "cell_type": "code",
   "execution_count": 23,
   "metadata": {},
   "outputs": [
    {
     "data": {
      "text/html": [
       "<div>\n",
       "<style scoped>\n",
       "    .dataframe tbody tr th:only-of-type {\n",
       "        vertical-align: middle;\n",
       "    }\n",
       "\n",
       "    .dataframe tbody tr th {\n",
       "        vertical-align: top;\n",
       "    }\n",
       "\n",
       "    .dataframe thead th {\n",
       "        text-align: right;\n",
       "    }\n",
       "</style>\n",
       "<table border=\"1\" class=\"dataframe\">\n",
       "  <thead>\n",
       "    <tr style=\"text-align: right;\">\n",
       "      <th></th>\n",
       "      <th>0</th>\n",
       "      <th>1</th>\n",
       "    </tr>\n",
       "  </thead>\n",
       "  <tbody>\n",
       "    <tr>\n",
       "      <td>6</td>\n",
       "      <td>0.0</td>\n",
       "      <td>Attr7</td>\n",
       "    </tr>\n",
       "    <tr>\n",
       "      <td>7</td>\n",
       "      <td>0.0</td>\n",
       "      <td>Attr8</td>\n",
       "    </tr>\n",
       "    <tr>\n",
       "      <td>10</td>\n",
       "      <td>0.0</td>\n",
       "      <td>Attr11</td>\n",
       "    </tr>\n",
       "    <tr>\n",
       "      <td>13</td>\n",
       "      <td>0.0</td>\n",
       "      <td>Attr14</td>\n",
       "    </tr>\n",
       "    <tr>\n",
       "      <td>15</td>\n",
       "      <td>0.0</td>\n",
       "      <td>Attr16</td>\n",
       "    </tr>\n",
       "    <tr>\n",
       "      <td>17</td>\n",
       "      <td>0.0</td>\n",
       "      <td>Attr18</td>\n",
       "    </tr>\n",
       "    <tr>\n",
       "      <td>18</td>\n",
       "      <td>0.0</td>\n",
       "      <td>Attr19</td>\n",
       "    </tr>\n",
       "    <tr>\n",
       "      <td>19</td>\n",
       "      <td>0.0</td>\n",
       "      <td>Attr20</td>\n",
       "    </tr>\n",
       "    <tr>\n",
       "      <td>25</td>\n",
       "      <td>0.0</td>\n",
       "      <td>Attr26</td>\n",
       "    </tr>\n",
       "    <tr>\n",
       "      <td>27</td>\n",
       "      <td>0.0</td>\n",
       "      <td>Attr28</td>\n",
       "    </tr>\n",
       "    <tr>\n",
       "      <td>34</td>\n",
       "      <td>0.0</td>\n",
       "      <td>Attr35</td>\n",
       "    </tr>\n",
       "    <tr>\n",
       "      <td>36</td>\n",
       "      <td>0.0</td>\n",
       "      <td>Attr37</td>\n",
       "    </tr>\n",
       "    <tr>\n",
       "      <td>42</td>\n",
       "      <td>0.0</td>\n",
       "      <td>Attr43</td>\n",
       "    </tr>\n",
       "    <tr>\n",
       "      <td>43</td>\n",
       "      <td>0.0</td>\n",
       "      <td>Attr44</td>\n",
       "    </tr>\n",
       "    <tr>\n",
       "      <td>44</td>\n",
       "      <td>0.0</td>\n",
       "      <td>Attr45</td>\n",
       "    </tr>\n",
       "    <tr>\n",
       "      <td>49</td>\n",
       "      <td>0.0</td>\n",
       "      <td>Attr50</td>\n",
       "    </tr>\n",
       "    <tr>\n",
       "      <td>58</td>\n",
       "      <td>0.0</td>\n",
       "      <td>Attr59</td>\n",
       "    </tr>\n",
       "    <tr>\n",
       "      <td>59</td>\n",
       "      <td>0.0</td>\n",
       "      <td>Attr60</td>\n",
       "    </tr>\n",
       "  </tbody>\n",
       "</table>\n",
       "</div>"
      ],
      "text/plain": [
       "      0       1\n",
       "6   0.0   Attr7\n",
       "7   0.0   Attr8\n",
       "10  0.0  Attr11\n",
       "13  0.0  Attr14\n",
       "15  0.0  Attr16\n",
       "17  0.0  Attr18\n",
       "18  0.0  Attr19\n",
       "19  0.0  Attr20\n",
       "25  0.0  Attr26\n",
       "27  0.0  Attr28\n",
       "34  0.0  Attr35\n",
       "36  0.0  Attr37\n",
       "42  0.0  Attr43\n",
       "43  0.0  Attr44\n",
       "44  0.0  Attr45\n",
       "49  0.0  Attr50\n",
       "58  0.0  Attr59\n",
       "59  0.0  Attr60"
      ]
     },
     "execution_count": 23,
     "metadata": {},
     "output_type": "execute_result"
    }
   ],
   "source": [
    "a = zip((clf_gb.feature_importances_),full_df.columns)\n",
    "\n",
    "df = pd.DataFrame(a)\n",
    "\n",
    "dfz =[]\n",
    "for i in range(1,len(df)):\n",
    "    if df.iloc[i,0]==0:\n",
    "        dfz.append(df.iloc[i])\n",
    "df_zero = pd.DataFrame(dfz)\n",
    "df_zero"
   ]
  },
  {
   "cell_type": "markdown",
   "metadata": {},
   "source": [
    "* Because we will be using XGBoost there is a regularization that takes place during the modelling that reduces the irrelevant coefficient weight to 0, and hence removes the variable. the variables that were removed from the our model due to low significance were: \n",
    "    * Attr7: EBIT / total assets\n",
    "    * Attr8: book value of equity / total liabilities\n",
    "    * Attr10: equity / total assets\n",
    "    * Attr11: (gross profit + extraordinary items + financial expenses) / total assets\n",
    "    * Attr18: gross profit / total assets\n",
    "    * Attr19: gross profit / sales\n",
    "    * Attr23: net profit / sales\n",
    "    * Attr45: net profit / inventory\n",
    "    * Attr54: constant capital / fixed assets\n",
    "    * Attr55: working capital\n",
    "    * Attr60: sales / inventory"
   ]
  },
  {
   "cell_type": "markdown",
   "metadata": {},
   "source": [
    "#### Model Assumptions\n",
    "* Random Forest Model\n",
    "    * This model makes no assumptions other than the sample data is representative, though this is common for most models.\n",
    "* XGBoost Model\n",
    "    * An assumption may be made ordinal values applied to encoded integer values, however as all attributes were float values this should not cause issues for our model."
   ]
  },
  {
   "cell_type": "markdown",
   "metadata": {},
   "source": [
    "<a id=\"3\"></a>\n",
    "## Modeling Preparations\n",
    "\n",
    "We are planning to use random forest with a number of parameteres to check the best set of paramters and compare the model to XGBoost with also a variety of parameters to see which mdel performs better. because the original data set is not balanced we will also run resample the data to make the target values balanced with the best paraameters to see if this prodicts a better model.\n",
    "\n",
    "Some reasons this models were chosen because XGBoost automatically has regularization built into it and reduces over fitting where the ordinary gradient boost and random forest cannot, and XGBoost also has an in-built routine to handle missing values. Random forest also has the ability to predict fairly accurately with missing values<br>\n",
    "\n",
    "<b>Models</b>\n",
    "1. Random Forest with parameter tuning - grid search\n",
    "2. Gradient Boost with parameter tuning - grid search\n",
    "3. XGBoost \n",
    "\n",
    "\n",
    "<b>Metrics</b><br>\n",
    "\n",
    "Our evaluation metrics would be accuaracy, precision and recall. In the case of Bankruptcy we know that if we fail to predict the False Negative correctly that means we continue to service the companies that will go bankrupt this will be the more severe outcome as the bank may loose a large financial investment, compared to predicting a false positive which would make the bank closely moniter a company that would most likely not go backrupt. \n",
    "\n",
    "<b>Since we are trying to limit our False Negatives the  most relevant metric would be the recall</b>.<br>\n",
    "\n",
    "1. Accuracy\n",
    "2. Precision\n",
    "3. Recall (Critical Metric)\n"
   ]
  },
  {
   "cell_type": "code",
   "execution_count": 12,
   "metadata": {},
   "outputs": [
    {
     "data": {
      "text/plain": [
       "5"
      ]
     },
     "execution_count": 12,
     "metadata": {},
     "output_type": "execute_result"
    },
    {
     "name": "stdout",
     "output_type": "stream",
     "text": [
      "TRAIN: [ 5012  2054 26736 ... 12174 24684  2896] TEST: [21312 31727 24582 ... 11525 21829   815]\n",
      "TRAIN: [29591  1055  4832 ... 19344 21112 30060] TEST: [37509  9566 41221 ...  7035  9105 34586]\n",
      "TRAIN: [40791 10807 23767 ... 29003 11112 34789] TEST: [15165 38730  9613 ...  6174  7557 13450]\n",
      "TRAIN: [26769 19277 14802 ... 33038 27501 35007] TEST: [35856  3967  2599 ... 27171 17672 30821]\n",
      "TRAIN: [36670  8161 15866 ... 15019  5347 11435] TEST: [19052 12929 23872 ... 34560 35897 19421]\n"
     ]
    }
   ],
   "source": [
    "from sklearn.model_selection import StratifiedShuffleSplit\n",
    "sss = StratifiedShuffleSplit(n_splits=5, test_size=0.33, random_state=42)\n",
    "sss.get_n_splits(X, y)\n",
    "\n",
    "for train_index, test_index in sss.split(X, y):\n",
    "    print(\"TRAIN:\", train_index, \"TEST:\", test_index)\n",
    "    X_train, X_test = X[train_index], X[test_index]\n",
    "    y_train, y_test = y[train_index], y[test_index]"
   ]
  },
  {
   "cell_type": "markdown",
   "metadata": {},
   "source": [
    "#### Imputation for Missing Values"
   ]
  },
  {
   "cell_type": "code",
   "execution_count": 13,
   "metadata": {},
   "outputs": [
    {
     "data": {
      "text/plain": [
       "SimpleImputer()"
      ]
     },
     "execution_count": 13,
     "metadata": {},
     "output_type": "execute_result"
    }
   ],
   "source": [
    "from sklearn.impute import SimpleImputer\n",
    "\n",
    "#imputing missing values using mean\n",
    "imp_mean = SimpleImputer(missing_values=np.nan, strategy='mean')\n",
    "imp_mean.fit(X_train)\n",
    "\n",
    "X_train = imp_mean.transform(X_train)\n",
    "X_test = imp_mean.transform(X_test)"
   ]
  },
  {
   "cell_type": "code",
   "execution_count": 14,
   "metadata": {},
   "outputs": [
    {
     "name": "stdout",
     "output_type": "stream",
     "text": [
      "[['0' '1']\n",
      " [27680 27680]]\n"
     ]
    }
   ],
   "source": [
    "#SMOTE balancing for minority class\n",
    "from imblearn.over_sampling import SMOTE\n",
    "oversample = SMOTE()\n",
    "X_train_os, y_train_os = oversample.fit_resample(X_train, y_train)\n",
    "\n",
    "unique_elements, counts_elements = np.unique(y_train_os, return_counts=True)\n",
    "print(np.asarray((unique_elements, counts_elements)))"
   ]
  },
  {
   "cell_type": "markdown",
   "metadata": {},
   "source": [
    "<a id=\"4\"></a>\n",
    "## Modeling Building and Evaluation\n",
    "\n",
    "<b>Random Forest Classifier & Hyperparameters </b><br>\n",
    "We used grid search to find all combinations of the following hyperparameters. \n",
    "1. n_estimators = number of trees in the foreset\n",
    "2. min_samples_split = min number of data points placed in a node before the node is split\n",
    "3. max_depth = max number of levels in each decision tree\n",
    "4. criterion = The function to measure the quality of a split. Supported criteria are “gini” for the Gini impurity and “entropy” for the information gain.\n",
    "\n",
    "We used min_samples_split of the treesto help regularise the individual trees if needed, for max depth we understand The larger an individual tree, the more chance it has of overfitting the training data,\n",
    "\n",
    "<b>Gradient Boost Classifier & Hyperparameters </b><br>\n",
    "\n",
    "1. n_estimators = number of trees in the foreset\n",
    "2. max_depth = The maximum depth of a tree.\n",
    "3. min_samples_split = min number of data points placed in a node before the node is split\n",
    "4. Learning rate = the rate at which the model is being trained or fit\n",
    "\n",
    "Min sample split is used to control over-fitting, Higher values prevent a model from learning relations which might be highly specific to the particular sample selected for a tree, while Too high values can lead to under-fitting hence, it should be tuned using CV which is incoperated in our gridsearch parameter where we use 5-fold cross validation.\n",
    "We implemented a learning rate because a problem with gradient boosted decision trees is that they are quick to learn and overfit training data so we decided to check different rates to see which is more beneficial.\n",
    "\n",
    "<b>XBBoost Classifier</b><br>\n",
    "1. n_estimators = number of trees in the foreset\n",
    "2. max_depth = The maximum depth of a tree.\n",
    "3. min_child_weight = minimum weight needed in a child for a split to occur\n",
    "\n",
    "<b> Sampling Method </b><br>\n",
    "Due to the imbalanced nature of the minority class in the data set we implemented a stratified shuffle split to create the train and test set. This should work to ensure each fold in cross validation is representative of the distribution for samples of the original data set."
   ]
  },
  {
   "cell_type": "markdown",
   "metadata": {},
   "source": [
    "#### Random Forest Classifier"
   ]
  },
  {
   "cell_type": "code",
   "execution_count": 15,
   "metadata": {},
   "outputs": [],
   "source": [
    "from sklearn.metrics import accuracy_score\n",
    "from sklearn.metrics import confusion_matrix\n",
    "from numpy import mean\n",
    "from sklearn.datasets import make_classification\n",
    "from sklearn.model_selection import cross_val_score\n",
    "from sklearn.model_selection import RepeatedStratifiedKFold\n",
    "from sklearn.ensemble import RandomForestClassifier"
   ]
  },
  {
   "cell_type": "code",
   "execution_count": 16,
   "metadata": {},
   "outputs": [],
   "source": [
    "tuned_parameters = {\n",
    "    'n_estimators':[10,20,50],\n",
    "    'max_depth':[5,10],\n",
    "    'criterion':['gini','entropy'],\n",
    "    'min_samples_split':[2,4,9]\n",
    "    }\n",
    "scores = ['accuracy']"
   ]
  },
  {
   "cell_type": "code",
   "execution_count": 17,
   "metadata": {},
   "outputs": [
    {
     "name": "stdout",
     "output_type": "stream",
     "text": [
      "Tuning hyper-parameters for accuracy\n",
      "\n",
      "Best parameters set:\n",
      "\n",
      "{'criterion': 'entropy', 'max_depth': 10, 'min_samples_split': 4, 'n_estimators': 50}\n",
      "\n",
      "Grid scores on set:\n",
      "\n",
      "0.955 for {'criterion': 'gini', 'max_depth': 5, 'min_samples_split': 2, 'n_estimators': 10}\n",
      "0.955 for {'criterion': 'gini', 'max_depth': 5, 'min_samples_split': 2, 'n_estimators': 20}\n",
      "0.954 for {'criterion': 'gini', 'max_depth': 5, 'min_samples_split': 2, 'n_estimators': 50}\n",
      "0.955 for {'criterion': 'gini', 'max_depth': 5, 'min_samples_split': 4, 'n_estimators': 10}\n",
      "0.955 for {'criterion': 'gini', 'max_depth': 5, 'min_samples_split': 4, 'n_estimators': 20}\n",
      "0.954 for {'criterion': 'gini', 'max_depth': 5, 'min_samples_split': 4, 'n_estimators': 50}\n",
      "0.955 for {'criterion': 'gini', 'max_depth': 5, 'min_samples_split': 9, 'n_estimators': 10}\n",
      "0.954 for {'criterion': 'gini', 'max_depth': 5, 'min_samples_split': 9, 'n_estimators': 20}\n",
      "0.954 for {'criterion': 'gini', 'max_depth': 5, 'min_samples_split': 9, 'n_estimators': 50}\n",
      "0.963 for {'criterion': 'gini', 'max_depth': 10, 'min_samples_split': 2, 'n_estimators': 10}\n",
      "0.964 for {'criterion': 'gini', 'max_depth': 10, 'min_samples_split': 2, 'n_estimators': 20}\n",
      "0.963 for {'criterion': 'gini', 'max_depth': 10, 'min_samples_split': 2, 'n_estimators': 50}\n",
      "0.963 for {'criterion': 'gini', 'max_depth': 10, 'min_samples_split': 4, 'n_estimators': 10}\n",
      "0.964 for {'criterion': 'gini', 'max_depth': 10, 'min_samples_split': 4, 'n_estimators': 20}\n",
      "0.963 for {'criterion': 'gini', 'max_depth': 10, 'min_samples_split': 4, 'n_estimators': 50}\n",
      "0.962 for {'criterion': 'gini', 'max_depth': 10, 'min_samples_split': 9, 'n_estimators': 10}\n",
      "0.964 for {'criterion': 'gini', 'max_depth': 10, 'min_samples_split': 9, 'n_estimators': 20}\n",
      "0.963 for {'criterion': 'gini', 'max_depth': 10, 'min_samples_split': 9, 'n_estimators': 50}\n",
      "0.957 for {'criterion': 'entropy', 'max_depth': 5, 'min_samples_split': 2, 'n_estimators': 10}\n",
      "0.956 for {'criterion': 'entropy', 'max_depth': 5, 'min_samples_split': 2, 'n_estimators': 20}\n",
      "0.955 for {'criterion': 'entropy', 'max_depth': 5, 'min_samples_split': 2, 'n_estimators': 50}\n",
      "0.957 for {'criterion': 'entropy', 'max_depth': 5, 'min_samples_split': 4, 'n_estimators': 10}\n",
      "0.955 for {'criterion': 'entropy', 'max_depth': 5, 'min_samples_split': 4, 'n_estimators': 20}\n",
      "0.955 for {'criterion': 'entropy', 'max_depth': 5, 'min_samples_split': 4, 'n_estimators': 50}\n",
      "0.957 for {'criterion': 'entropy', 'max_depth': 5, 'min_samples_split': 9, 'n_estimators': 10}\n",
      "0.955 for {'criterion': 'entropy', 'max_depth': 5, 'min_samples_split': 9, 'n_estimators': 20}\n",
      "0.955 for {'criterion': 'entropy', 'max_depth': 5, 'min_samples_split': 9, 'n_estimators': 50}\n",
      "0.964 for {'criterion': 'entropy', 'max_depth': 10, 'min_samples_split': 2, 'n_estimators': 10}\n",
      "0.964 for {'criterion': 'entropy', 'max_depth': 10, 'min_samples_split': 2, 'n_estimators': 20}\n",
      "0.964 for {'criterion': 'entropy', 'max_depth': 10, 'min_samples_split': 2, 'n_estimators': 50}\n",
      "0.963 for {'criterion': 'entropy', 'max_depth': 10, 'min_samples_split': 4, 'n_estimators': 10}\n",
      "0.963 for {'criterion': 'entropy', 'max_depth': 10, 'min_samples_split': 4, 'n_estimators': 20}\n",
      "0.964 for {'criterion': 'entropy', 'max_depth': 10, 'min_samples_split': 4, 'n_estimators': 50}\n",
      "0.962 for {'criterion': 'entropy', 'max_depth': 10, 'min_samples_split': 9, 'n_estimators': 10}\n",
      "0.963 for {'criterion': 'entropy', 'max_depth': 10, 'min_samples_split': 9, 'n_estimators': 20}\n",
      "0.963 for {'criterion': 'entropy', 'max_depth': 10, 'min_samples_split': 9, 'n_estimators': 50}\n",
      "\n",
      "              precision    recall  f1-score   support\n",
      "\n",
      "           0       0.96      1.00      0.98     13634\n",
      "           1       0.99      0.25      0.40       690\n",
      "\n",
      "    accuracy                           0.96     14324\n",
      "   macro avg       0.98      0.63      0.69     14324\n",
      "weighted avg       0.96      0.96      0.95     14324\n",
      "\n",
      "[[13632     2]\n",
      " [  516   174]]\n",
      "Wall time: 3min 16s\n"
     ]
    }
   ],
   "source": [
    "%%time\n",
    "for score in scores:\n",
    "    print(\"Tuning hyper-parameters for %s\" % score)\n",
    "    print()\n",
    "    \n",
    "    clf = GridSearchCV(RandomForestClassifier(random_state=1234), tuned_parameters, cv=5, n_jobs=-1)\n",
    "    clf.fit(X_train,y_train)\n",
    "    \n",
    "    print(\"Best parameters set:\")\n",
    "    print()\n",
    "    print(clf.best_params_)\n",
    "    print()\n",
    "    print(\"Grid scores on set:\")\n",
    "    print()\n",
    "    means = clf.cv_results_['mean_test_score']\n",
    "    stds = clf.cv_results_['std_test_score']\n",
    "    for mean, std, params in zip(means, stds, clf.cv_results_['params']):\n",
    "        print(\"%0.3f for %r\" % (mean, params))\n",
    "    print()\n",
    "    y_true, y_pred = y_test, clf.predict(X_test)\n",
    "    print(classification_report(y_true, y_pred))\n",
    "    print(confusion_matrix(y_true, y_pred))"
   ]
  },
  {
   "cell_type": "markdown",
   "metadata": {},
   "source": [
    "#### Gradient Boost Classifier"
   ]
  },
  {
   "cell_type": "code",
   "execution_count": 18,
   "metadata": {},
   "outputs": [
    {
     "name": "stdout",
     "output_type": "stream",
     "text": [
      "Wall time: 24.2 s\n"
     ]
    },
    {
     "data": {
      "text/plain": [
       "0.9587405752583077"
      ]
     },
     "execution_count": 18,
     "metadata": {},
     "output_type": "execute_result"
    }
   ],
   "source": [
    "%%time\n",
    "from sklearn.ensemble import GradientBoostingClassifier\n",
    "\n",
    "clf_gbst = GradientBoostingClassifier(n_estimators=100, learning_rate=1.0,\n",
    "    max_depth=1, random_state=0).fit(X_train, y_train)\n",
    "\n",
    "clf_gbst.score(X_test, y_test)"
   ]
  },
  {
   "cell_type": "markdown",
   "metadata": {},
   "source": [
    "#### XGBoost Model"
   ]
  },
  {
   "cell_type": "code",
   "execution_count": 19,
   "metadata": {},
   "outputs": [],
   "source": [
    "tuned_parameters = {\n",
    "    'n_estimators':[50,100],\n",
    "    'max_depth':[1,2],\n",
    "    'learning_rate':[0.1,1],\n",
    "    'min_samples_split':[2,4]\n",
    "    }\n",
    "scores = ['accuracy']\n"
   ]
  },
  {
   "cell_type": "code",
   "execution_count": 20,
   "metadata": {},
   "outputs": [
    {
     "name": "stdout",
     "output_type": "stream",
     "text": [
      "Tuning hyper-parameters for accuracy\n",
      "\n",
      "Best parameters set:\n",
      "\n",
      "{'learning_rate': 1, 'max_depth': 2, 'min_samples_split': 2, 'n_estimators': 100}\n",
      "\n",
      "Grid scores on set:\n",
      "\n",
      "0.953 for {'learning_rate': 0.1, 'max_depth': 1, 'min_samples_split': 2, 'n_estimators': 50}\n",
      "0.954 for {'learning_rate': 0.1, 'max_depth': 1, 'min_samples_split': 2, 'n_estimators': 100}\n",
      "0.953 for {'learning_rate': 0.1, 'max_depth': 1, 'min_samples_split': 4, 'n_estimators': 50}\n",
      "0.954 for {'learning_rate': 0.1, 'max_depth': 1, 'min_samples_split': 4, 'n_estimators': 100}\n",
      "0.962 for {'learning_rate': 0.1, 'max_depth': 2, 'min_samples_split': 2, 'n_estimators': 50}\n",
      "0.965 for {'learning_rate': 0.1, 'max_depth': 2, 'min_samples_split': 2, 'n_estimators': 100}\n",
      "0.962 for {'learning_rate': 0.1, 'max_depth': 2, 'min_samples_split': 4, 'n_estimators': 50}\n",
      "0.965 for {'learning_rate': 0.1, 'max_depth': 2, 'min_samples_split': 4, 'n_estimators': 100}\n",
      "0.958 for {'learning_rate': 1, 'max_depth': 1, 'min_samples_split': 2, 'n_estimators': 50}\n",
      "0.959 for {'learning_rate': 1, 'max_depth': 1, 'min_samples_split': 2, 'n_estimators': 100}\n",
      "0.958 for {'learning_rate': 1, 'max_depth': 1, 'min_samples_split': 4, 'n_estimators': 50}\n",
      "0.959 for {'learning_rate': 1, 'max_depth': 1, 'min_samples_split': 4, 'n_estimators': 100}\n",
      "0.965 for {'learning_rate': 1, 'max_depth': 2, 'min_samples_split': 2, 'n_estimators': 50}\n",
      "0.965 for {'learning_rate': 1, 'max_depth': 2, 'min_samples_split': 2, 'n_estimators': 100}\n",
      "0.965 for {'learning_rate': 1, 'max_depth': 2, 'min_samples_split': 4, 'n_estimators': 50}\n",
      "0.965 for {'learning_rate': 1, 'max_depth': 2, 'min_samples_split': 4, 'n_estimators': 100}\n",
      "\n",
      "              precision    recall  f1-score   support\n",
      "\n",
      "           0       0.97      0.99      0.98     13634\n",
      "           1       0.76      0.39      0.52       690\n",
      "\n",
      "    accuracy                           0.96     14324\n",
      "   macro avg       0.87      0.69      0.75     14324\n",
      "weighted avg       0.96      0.96      0.96     14324\n",
      "\n",
      "[[13550    84]\n",
      " [  420   270]]\n",
      "Wall time: 8min 54s\n"
     ]
    }
   ],
   "source": [
    "%%time\n",
    "for score in scores:\n",
    "    print(\"Tuning hyper-parameters for %s\" % score)\n",
    "    print()\n",
    "    \n",
    "    gb_clf = GridSearchCV(GradientBoostingClassifier(learning_rate=1.0, random_state=1234), tuned_parameters, cv=5, n_jobs=-1)\n",
    "    gb_clf.fit(X_train,y_train)\n",
    "    \n",
    "    print(\"Best parameters set:\")\n",
    "    print()\n",
    "    print(xgb_clf.best_params_)\n",
    "    print()\n",
    "    print(\"Grid scores on set:\")\n",
    "    print()\n",
    "    means = gb_clf.cv_results_['mean_test_score']\n",
    "    stds = gb_clf.cv_results_['std_test_score']\n",
    "    for mean, std, params in zip(means, stds, xgb_clf.cv_results_['params']):\n",
    "        print(\"%0.3f for %r\" % (mean, params))\n",
    "    print()\n",
    "    y_true, y_pred = y_test, gb_clf.predict(X_test)\n",
    "    print(classification_report(y_true, y_pred))\n",
    "    print(confusion_matrix(y_true, y_pred))"
   ]
  },
  {
   "cell_type": "code",
   "execution_count": 21,
   "metadata": {},
   "outputs": [
    {
     "name": "stdout",
     "output_type": "stream",
     "text": [
      "[19:07:01] WARNING: ..\\src\\learner.cc:1095: Starting in XGBoost 1.3.0, the default evaluation metric used with the objective 'binary:logistic' was changed from 'error' to 'logloss'. Explicitly set eval_metric if you'd like to restore the old behavior.\n",
      "              precision    recall  f1-score   support\n",
      "\n",
      "           0       0.98      1.00      0.99     13634\n",
      "           1       0.90      0.57      0.70       690\n",
      "\n",
      "    accuracy                           0.98     14324\n",
      "   macro avg       0.94      0.78      0.84     14324\n",
      "weighted avg       0.97      0.98      0.97     14324\n",
      "\n",
      "[[13591    43]\n",
      " [  298   392]]\n",
      "Wall time: 21.4 s\n"
     ]
    }
   ],
   "source": [
    "%%time\n",
    "xgbst_clf = XGBClassifier(max_depth=10, min_child_weight=1,n_estimators=100)\n",
    "xgbst_clf.fit(X_train,y_train)\n",
    "y_true, y_pred = y_test, xgbst_clf.predict(X_test)\n",
    "print(classification_report(y_true, y_pred))\n",
    "print(confusion_matrix(y_true, y_pred))"
   ]
  },
  {
   "cell_type": "markdown",
   "metadata": {},
   "source": [
    "<a id=\"5\"></a>\n",
    "## Model Intepretability & Explainability"
   ]
  },
  {
   "cell_type": "code",
   "execution_count": 68,
   "metadata": {},
   "outputs": [
    {
     "data": {
      "text/plain": [
       "FeatureImportances(ax=<AxesSubplot:>,\n",
       "                   estimator=XGBClassifier(base_score=0.5, booster='gbtree',\n",
       "                                           colsample_bylevel=1,\n",
       "                                           colsample_bynode=1,\n",
       "                                           colsample_bytree=1, gamma=0,\n",
       "                                           gpu_id=-1, importance_type='gain',\n",
       "                                           interaction_constraints='',\n",
       "                                           learning_rate=0.300000012,\n",
       "                                           max_delta_step=0, max_depth=10,\n",
       "                                           min_child_weight=1, missing=nan,\n",
       "                                           monotone_constraints='()',\n",
       "                                           n_estimators=100, n_jobs=4,\n",
       "                                           num_parallel_tree=1, random_state=0,\n",
       "                                           reg_alpha=0, reg_lambda=1,\n",
       "                                           scale_pos_weight=1, subsample=1,\n",
       "                                           tree_method='exact',\n",
       "                                           validate_parameters=1,\n",
       "                                           verbosity=None),\n",
       "                   relative=False, topn=6)"
      ]
     },
     "execution_count": 68,
     "metadata": {},
     "output_type": "execute_result"
    },
    {
     "data": {
      "image/png": "[encoded data removed]",
      "text/plain": [
       "<Figure size 576x396 with 1 Axes>"
      ]
     },
     "metadata": {},
     "output_type": "display_data"
    },
    {
     "data": {
      "text/plain": [
       "<AxesSubplot:title={'center':'Feature Importances of Top 6 Features using XGBClassifier'}, xlabel='feature importance'>"
      ]
     },
     "execution_count": 68,
     "metadata": {},
     "output_type": "execute_result"
    }
   ],
   "source": [
    "viz = FeatureImportances(xgbst_clf,topn=6,relative=False)\n",
    "viz.fit(X_test, y_test)\n",
    "viz.show()"
   ]
  },
  {
   "cell_type": "markdown",
   "metadata": {},
   "source": [
    "* The top 6 important features identified for the base XGBoost model were as follows ordered by importance:\n",
    "    * **Attr34: operating expenses / total liabilities**\n",
    "    * Attr26: (net profit + depreciation) / total liabilities\n",
    "    * Attr27: profit on operating activities / financial expenses\n",
    "    * Attr56: (sales - cost of products sold) / sales\n",
    "    * Attr35: profit on sales / total assets\n",
    "    * Attr19: gross profit / sales\n",
    "    \n",
    "* Clients with larger operating expenses were at a far greater risks of bankruptcy according to features identified by the model. Profit, liabilities and assets while also important, were far outweighed by bankruptcy risks due to large operation expenses."
   ]
  },
  {
   "cell_type": "code",
   "execution_count": 33,
   "metadata": {
    "scrolled": false
   },
   "outputs": [
    {
     "data": {
      "text/plain": [
       "SimpleImputer()"
      ]
     },
     "execution_count": 33,
     "metadata": {},
     "output_type": "execute_result"
    },
    {
     "data": {
      "text/plain": [
       "<Figure size 576x396 with 0 Axes>"
      ]
     },
     "execution_count": 33,
     "metadata": {},
     "output_type": "execute_result"
    },
    {
     "data": {
      "text/plain": [
       "GradientBoostingClassifier(learning_rate=1.0, max_depth=1, random_state=0)"
      ]
     },
     "execution_count": 33,
     "metadata": {},
     "output_type": "execute_result"
    },
    {
     "data": {
      "text/plain": [
       "[<matplotlib.lines.Line2D at 0x1405fd190>]"
      ]
     },
     "execution_count": 33,
     "metadata": {},
     "output_type": "execute_result"
    },
    {
     "data": {
      "text/plain": [
       "RandomForestClassifier(max_depth=10, min_samples_split=100, n_estimators=50,\n",
       "                       random_state=1234)"
      ]
     },
     "execution_count": 33,
     "metadata": {},
     "output_type": "execute_result"
    },
    {
     "data": {
      "text/plain": [
       "[<matplotlib.lines.Line2D at 0x1405fd350>]"
      ]
     },
     "execution_count": 33,
     "metadata": {},
     "output_type": "execute_result"
    },
    {
     "name": "stdout",
     "output_type": "stream",
     "text": [
      "[19:19:32] WARNING: ../src/learner.cc:1061: Starting in XGBoost 1.3.0, the default evaluation metric used with the objective 'binary:logistic' was changed from 'error' to 'logloss'. Explicitly set eval_metric if you'd like to restore the old behavior.\n"
     ]
    },
    {
     "data": {
      "text/plain": [
       "XGBClassifier(base_score=0.5, booster='gbtree', colsample_bylevel=1,\n",
       "              colsample_bynode=1, colsample_bytree=1, gamma=0, gpu_id=-1,\n",
       "              importance_type='gain', interaction_constraints='',\n",
       "              learning_rate=0.300000012, max_delta_step=0, max_depth=10,\n",
       "              min_child_weight=1, missing=nan, monotone_constraints='()',\n",
       "              n_estimators=100, n_jobs=4, num_parallel_tree=1, random_state=0,\n",
       "              reg_alpha=0, reg_lambda=1, scale_pos_weight=1, subsample=1,\n",
       "              tree_method='exact', validate_parameters=1, verbosity=None)"
      ]
     },
     "execution_count": 33,
     "metadata": {},
     "output_type": "execute_result"
    },
    {
     "data": {
      "text/plain": [
       "[<matplotlib.lines.Line2D at 0x1406066d0>]"
      ]
     },
     "execution_count": 33,
     "metadata": {},
     "output_type": "execute_result"
    },
    {
     "data": {
      "text/plain": [
       "[<matplotlib.lines.Line2D at 0x140744b10>]"
      ]
     },
     "execution_count": 33,
     "metadata": {},
     "output_type": "execute_result"
    },
    {
     "data": {
      "text/plain": [
       "(0.0, 1.0)"
      ]
     },
     "execution_count": 33,
     "metadata": {},
     "output_type": "execute_result"
    },
    {
     "data": {
      "text/plain": [
       "(0.0, 1.05)"
      ]
     },
     "execution_count": 33,
     "metadata": {},
     "output_type": "execute_result"
    },
    {
     "data": {
      "text/plain": [
       "Text(0.5, 0, '1-Specificity (False Positive Rate)')"
      ]
     },
     "execution_count": 33,
     "metadata": {},
     "output_type": "execute_result"
    },
    {
     "data": {
      "text/plain": [
       "Text(0, 0.5, 'Sensitivity (True Positive Rate)')"
      ]
     },
     "execution_count": 33,
     "metadata": {},
     "output_type": "execute_result"
    },
    {
     "data": {
      "text/plain": [
       "Text(0.5, 1.0, 'Logistic Regression v. XGBoost ROC')"
      ]
     },
     "execution_count": 33,
     "metadata": {},
     "output_type": "execute_result"
    },
    {
     "data": {
      "text/plain": [
       "<matplotlib.legend.Legend at 0x140744f90>"
      ]
     },
     "execution_count": 33,
     "metadata": {},
     "output_type": "execute_result"
    },
    {
     "data": {
      "image/png": "[encoded data removed]",
      "text/plain": [
       "<Figure size 576x396 with 1 Axes>"
      ]
     },
     "metadata": {},
     "output_type": "display_data"
    }
   ],
   "source": [
    "imp_mean = SimpleImputer(missing_values=np.nan, strategy='mean')\n",
    "imp_mean.fit(X_train)\n",
    "\n",
    "X_train = imp_mean.transform(X_train)\n",
    "X_test = imp_mean.transform(X_test)\n",
    "\n",
    "plt.figure()\n",
    "# Add the models to the list that you want to view on the ROC plot\n",
    "models = [\n",
    "{\n",
    "    'label': 'Gradient Boost',\n",
    "    'model': GradientBoostingClassifier(n_estimators=100, learning_rate=1.0,max_depth=1, random_state=0),\n",
    "},    \n",
    "{\n",
    "    'label': 'RandomForest',\n",
    "    'model': RandomForestClassifier(n_estimators = 50, max_depth = 10, min_samples_split = 100, random_state=1234),\n",
    "},\n",
    "{\n",
    "    'label': 'XGBoost Classifier',\n",
    "    'model': XGBClassifier(max_depth=10, min_child_weight=1,n_estimators=100),\n",
    "}\n",
    "]\n",
    "# Below for loop iterates through your models list\n",
    "for m in models:\n",
    "    model = m['model'] # select the model\n",
    "    model.fit(X_train, y_train) # train the model\n",
    "    y_pred=model.predict(X_test) # predict the test data\n",
    "# Compute False postive rate, and True positive rate\n",
    "    fpr, tpr, thresholds = roc_curve(y_test, model.predict_proba(X_test)[:,1],pos_label='1')\n",
    "# Calculate Area under the curve to display on the plot\n",
    "    auc = roc_auc_score(y_test,model.predict(X_test))\n",
    "# Now, plot the computed values\n",
    "    plt.plot(fpr, tpr, label='%s ROC (area = %0.2f)' % (m['label'], auc))\n",
    "# Custom settings for the plot \n",
    "plt.plot([0, 1], [0, 1],'r--')\n",
    "plt.xlim([0.0, 1.0])\n",
    "plt.ylim([0.0, 1.05])\n",
    "plt.xlabel('1-Specificity (False Positive Rate)')\n",
    "plt.ylabel('Sensitivity (True Positive Rate)')\n",
    "plt.title('Logistic Regression v. XGBoost ROC')\n",
    "plt.legend(loc=\"lower right\")\n",
    "plt.show()\n"
   ]
  },
  {
   "cell_type": "code",
   "execution_count": 24,
   "metadata": {},
   "outputs": [
    {
     "data": {
      "text/html": [
       "<div>\n",
       "<style scoped>\n",
       "    .dataframe tbody tr th:only-of-type {\n",
       "        vertical-align: middle;\n",
       "    }\n",
       "\n",
       "    .dataframe tbody tr th {\n",
       "        vertical-align: top;\n",
       "    }\n",
       "\n",
       "    .dataframe thead th {\n",
       "        text-align: right;\n",
       "    }\n",
       "</style>\n",
       "<table border=\"1\" class=\"dataframe\">\n",
       "  <thead>\n",
       "    <tr style=\"text-align: right;\">\n",
       "      <th></th>\n",
       "      <th>Model</th>\n",
       "      <th>Precision[0]</th>\n",
       "      <th>Recall[0]</th>\n",
       "      <th>Precision[1]</th>\n",
       "      <th>Recall[1]</th>\n",
       "      <th>Accuracy</th>\n",
       "    </tr>\n",
       "  </thead>\n",
       "  <tbody>\n",
       "    <tr>\n",
       "      <td>0</td>\n",
       "      <td>Random Forest</td>\n",
       "      <td>0.96</td>\n",
       "      <td>1.00</td>\n",
       "      <td>0.99</td>\n",
       "      <td>0.25</td>\n",
       "      <td>0.96</td>\n",
       "    </tr>\n",
       "    <tr>\n",
       "      <td>1</td>\n",
       "      <td>Gradient Boost</td>\n",
       "      <td>0.97</td>\n",
       "      <td>0.99</td>\n",
       "      <td>0.76</td>\n",
       "      <td>0.39</td>\n",
       "      <td>0.96</td>\n",
       "    </tr>\n",
       "    <tr>\n",
       "      <td>2</td>\n",
       "      <td>XGBoost</td>\n",
       "      <td>0.98</td>\n",
       "      <td>1.00</td>\n",
       "      <td>0.90</td>\n",
       "      <td>0.57</td>\n",
       "      <td>0.98</td>\n",
       "    </tr>\n",
       "  </tbody>\n",
       "</table>\n",
       "</div>"
      ],
      "text/plain": [
       "            Model Precision[0] Recall[0] Precision[1] Recall[1] Accuracy\n",
       "0   Random Forest         0.96      1.00         0.99      0.25     0.96\n",
       "1  Gradient Boost         0.97      0.99         0.76      0.39     0.96\n",
       "2         XGBoost         0.98      1.00         0.90      0.57     0.98"
      ]
     },
     "execution_count": 24,
     "metadata": {},
     "output_type": "execute_result"
    }
   ],
   "source": [
    "Model_compare = pd.DataFrame(\n",
    "{'Model': ['Random Forest','Gradient Boost','XGBoost'],\n",
    "'Precision[0]': ['0.96','0.97','0.98'],\n",
    "'Recall[0]': ['1.00','0.99','1.00'],\n",
    "'Precision[1]': ['0.99','0.76','0.90'],\n",
    "'Recall[1]': ['0.25','0.39','0.57'],\n",
    "'Accuracy': ['0.96','0.96','0.98'],\n",
    "})\n",
    "pd.set_option(\"max_colwidth\", 3000)\n",
    "\n",
    "Model_compare\n"
   ]
  },
  {
   "cell_type": "markdown",
   "metadata": {},
   "source": [
    "* The XGBoost is the most efffective model with the highest scores in recall and accuracy for all targets. Precision of target 1 was at 0.90, this was only outperformed by the Random Forest model. However as our critical metric was recall, XGBoost far outperformed other models at 0.57."
   ]
  },
  {
   "cell_type": "markdown",
   "metadata": {},
   "source": [
    "<a id=\"6\"></a>\n",
    "## Conclusions\n",
    "\n",
    "The most important factor in determining risk of bankruptcy was found to be due to large operating expenses. This should be one of the first considerations when looking at bankruptcy risks for potential or current clients/companies.\n",
    "\n",
    "The three models all had relatively high accuracy with random forest and gradient boost giving a result of 96% accuracy while XGBoost has a better accuracy of 98%. This tells us that in general, the models are good but likely only at predicting the overwhelming majority class. Since the data is not balanced this may not be the best metric to use.\n",
    "\n",
    "The precision in this model for our target, clients that went bankrupt (target 1), tells us out of the predicted values how many were correct. In this model it tells us the number of false positives. This represents when a company did not go backrupt but the model predicted that they had gone bankrupt. This is assumed to be less severe since the bank will most likely just pay closer attention to this company which is not a major loss in investment. The best model is Random forest with 99% precision which is just slightly better than the XGBoost that has 90% precision.\n",
    "\n",
    "The best model is the XGBoost this is because it is the best in predicting the the critical metric of recall for the target 1. The random forest performed very poorly with 25% of the recall being correct, while the gradient boost had 39%, XGBoost was the best with 57% correct recall. While this was the best comparatively to the other models it still leaves a lot of room for improvement in prediction capabilities.\n",
    "\n",
    "Some ideas to further improve the model would be to use an oversampled or undersampled dataset to adjust for any imbalance on the minority class and check for improvements against the models previous metrics."
   ]
  }
 ],
 "metadata": {
  "kernelspec": {
   "display_name": "Python 3",
   "language": "python",
   "name": "python3"
  },
  "language_info": {
   "codemirror_mode": {
    "name": "ipython",
    "version": 3
   },
   "file_extension": ".py",
   "mimetype": "text/x-python",
   "name": "python",
   "nbconvert_exporter": "python",
   "pygments_lexer": "ipython3",
   "version": "3.7.4"
  }
 },
 "nbformat": 4,
 "nbformat_minor": 4
}
